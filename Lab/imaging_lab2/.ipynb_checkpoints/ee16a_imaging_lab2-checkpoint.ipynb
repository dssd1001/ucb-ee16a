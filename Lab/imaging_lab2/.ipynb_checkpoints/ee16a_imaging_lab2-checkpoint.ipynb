{
 "cells": [
  {
   "cell_type": "markdown",
   "metadata": {},
   "source": [
    "# Imaging Lab 2: Single Pixel Scanning\n",
    "\n",
    "### EECS 16A: Designing Information Devices and Systems I, Fall 2016"
   ]
  },
  {
   "cell_type": "markdown",
   "metadata": {},
   "source": [
    "**Name 1**:\n",
    "\n",
    "**Login**: ee16a-\n",
    "\n",
    "\n",
    "**Name 2**:\n",
    "\n",
    "**Login**: ee16a-"
   ]
  },
  {
   "cell_type": "markdown",
   "metadata": {},
   "source": [
    "\n",
    "## Table of Contents\n",
    "\n",
    "* [Instructions](#instructions)\n",
    "* [Lab Policies](#policies)\n",
    "* Setup\n",
    "    * [Light Sensor](#task1a)\n",
    "    * [MSP430 Code](#task1b)\n",
    "    * [Projector](#task1c)\n",
    "* Images and Arrays\n",
    "    * [Images](#task2a)\n",
    "    * [Scanning Matrix](#task2b)\n",
    "* [Real Image Scanning](#task3)\n",
    "* [FAQ](#faq)"
   ]
  },
  {
   "cell_type": "markdown",
   "metadata": {},
   "source": [
    "<a id='instructions'></a>\n",
    "## Instructions\n",
    "* Complete this lab by filling in all of the required sections, marked with `\"YOUR CODE HERE\"` or `\"YOUR COMMENTS HERE\"`.\n",
    "\n",
    "\n",
    "* When you finish, submit you a checkoff request to get checked off for this lab. Be ready to answer a few questions to show your understanding of each section.\n",
    "\n",
    "\n",
    "* Labs will be graded based on completion for teams of 2 (or 3) students."
   ]
  },
  {
   "cell_type": "markdown",
   "metadata": {},
   "source": [
    "<a id='policies'></a>\n",
    "## Lab Policies\n",
    "* **YOU MUST ATTEND THE LAB SECTION YOU ARE ENROLLED IN. If you anticipate missing a section please notify your GSI in advance.**\n",
    "* **You are required to return all parts checked out at the beginning of the lab section unless told otherwise.**\n",
    "* **You are free to stay for the full allotted time and hack around with the lab equipment, but please keep the GSI's time in mind and do not work on unrelated assignments.**\n",
    "* **Food and drinks (except water) are not allowed in the lab.**\n",
    "* **Clean up, turn off all equipment, and log off of computers before leaving.**"
   ]
  },
  {
   "cell_type": "markdown",
   "metadata": {},
   "source": [
    "# Overview\n",
    "This week, you will scan an image pixel by pixel and write code to recreate it with the sensor readings. Specifically, you will begin by checking that the circuit you built last time still works and that the projector is correctly connected to the computer. Next, you will write code to generate the pattern that the projector will use to scan through the image. Finally, you will use your code and scanning matrix to  image a card!\n",
    "<br/><br/>\n",
    "<center>\n",
    "<img src=\"http://inst.eecs.berkeley.edu/~ee16a/images/imaging_img/proj_prof.png\" style=\"height:256px\" />\n",
    "</center>"
   ]
  },
  {
   "cell_type": "markdown",
   "metadata": {},
   "source": [
    "<a id='task1a'></a>\n",
    "## <span style=\"color:blue\">Task 1a: Light Sensor</span>\n",
    "\n",
    "Build your solar cell circuit as you did in <a href=\"https://inst.eecs.berkeley.edu/~ee16a/fa16/lab/imaging/imaging1/ee16a_imaging_lab1.zip\">Imaging Lab 1</a>. Hookup the Launchpad to circuit in the same fashion as in Imaging Lab 1.\n",
    "<br/><br/>\n",
    "\n",
    "<center>\n",
    "<img src=\"http://inst.eecs.berkeley.edu/~ee16a/images/imaging_img/SolarCell%20Circuit.png\" align=\"center\" style=\"height:200px\" />\n",
    "</center>\n",
    "A reminder on how to connect the Launchpad to the sensor circuit:\n",
    "  Our goal is to use the Launchpad to replace both the Power Supply and Oscilloscope. The Launchpad is capable of supplying the 3.3V necessary to power the circuit, and can also read and send voltage values to our computer via Input / Output pins. Something to keep in mind: the Launchpad has both Male and Female connections (Male on the top side, Female on the underside).\n",
    "  * Disconnect and turn off the power supply. We won't be needing this anymore!\n",
    "  * Disconnect the oscilloscope probe. We won't be needing this either!\n",
    "  * Connect the **3V3** pin on the Launchpad (highlighted in green) to the **positive**  to the same location the positive Power Supply wire was connected to on your breadboard (most likely the red column).\n",
    "  * Connect the **GND** port (either one) on the Launchpad (highlighted in blue) to the **negative** to the same location the negative Power Supply wire was connected to on your breadboard (most likely the blue column).\n",
    "  * Connect the output of the circuit (which was previously connected to the positive terminal of the O-scope probe) with a wire to pin **P6.0** on the Launchpad (highlighted in yellow).\n",
    "<br/><br/>\n",
    "<center>\n",
    "<img src=\"http://inst.eecs.berkeley.edu/~ee16a/images/imaging_img/colored_pins.png\" align=\"center\" style=\"height:400px\" />\n",
    "</center>\n",
    "<br/><br/>\n",
    "\n",
    "\n",
    "<a id='task1b'></a>\n",
    "** <span style=\"color:red\">Use the oscilloscope to confirm that the sensor you built last week still responds to changes in light. You should be able to reproduce the same output you saw before.</span>**\n",
    "\n",
    "## <span style=\"color:blue\">Task 1b: Upload Code to Launchpad</span>\n",
    "We will be using a different Launchpad program this week.<br/> \n",
    "**<span style=\"color:red\"> Upload the `AnalogReadSerial` program to your Launchpad. This is located in the lab folder you downloaded. To verify that the program is working, type a '6' into the serial monitor; you can open the serial monitor by going to Tools > Serial Monitor. You should see a reading from the solar cell appear.</span>**\n",
    "\n",
    "<a id='task1c'></a>\n",
    "## <span style=\"color:blue\">Task 1c: Projector Setup</span>\n",
    "* Place the breadboard, Launchpad, and solar cell in the stand.\n",
    "* Place the stand in the cardboard station box.\n",
    "* Connect the USB cable to the Launchpad.\n",
    "* Connect the HDMI and power cables to the projector.\n",
    "* Turn on the projector (using the power button on the top) and use the left/right arrows to select the HDMI output.\n",
    "* Look at the serial monitor in Energia to confirm the Launchpad is connected.\n",
    "* <span style=\"color:blue\">The projector, 3D printed stand, and Launchpad should all be placed inside the box!</span>\n",
    "\n",
    "** <span style=\"color:red\">Confirm that you are able to see a blank Windows Desktop on the projector screen.</span>**\n"
   ]
  },
  {
   "cell_type": "code",
   "execution_count": null,
   "metadata": {
    "collapsed": true
   },
   "outputs": [],
   "source": [
    "#Import Necessary Libraries\n",
    "from  pylab import *\n",
    "import struct\n",
    "import numpy as np\n",
    "import time\n",
    "import scipy\n",
    "from scipy import linalg\n",
    "import serial\n",
    "import warnings\n",
    "import math\n",
    "warnings.filterwarnings('ignore')\n",
    "\n",
    "%matplotlib inline"
   ]
  },
  {
   "cell_type": "markdown",
   "metadata": {},
   "source": [
    "<a id='task2a'></a>\n",
    "## <span style=\"color:blue\">Task 2a: Working with Images</span>\n",
    "A simple grayscale image can be represented using a 2D numpy array. The values stored in this array correspond to different shades of gray, where lower numbers are darker and higher numbers are lighter.  \n",
    "\n",
    "To see how this works, create a 5x5 numpy array with linearly spaced floating point values from 0 to 1. i.e. gradient_image[0,0] = 0.0, gradient_image[2,2] = 0.5, and gradient_image[4,4] = 1.0\n",
    "\n",
    "<br/>\n",
    "\n",
    "\n",
    "** <span style=\"color:red\">Create the gradient 5x5 array here. It should look like the following:</span>**\n",
    "\n",
    "\n",
    "<br/>\n",
    "<center>\n",
    "<img src=\"http://inst.eecs.berkeley.edu/~ee16a/images/imaging_img/gradient.JPG\" align=\"center\" style=\"height:200px\" />\n",
    "</center>"
   ]
  },
  {
   "cell_type": "code",
   "execution_count": null,
   "metadata": {
    "collapsed": false
   },
   "outputs": [],
   "source": [
    "# TODO: Make a gradient image from 0 to 1\n",
    "\n",
    "gradient_image = # YOUR CODE HERE. Hint: There is a NumPy function that can create a vector of equally spaced values over a specified range.\n",
    "\n",
    "print(gradient_image)"
   ]
  },
  {
   "cell_type": "markdown",
   "metadata": {},
   "source": [
    "**<span style=\"color:red\">Display the same matrix with `plt.imshow`.</span>**"
   ]
  },
  {
   "cell_type": "code",
   "execution_count": null,
   "metadata": {
    "collapsed": false
   },
   "outputs": [],
   "source": [
    "plt.imshow(gradient_image, cmap='gray', interpolation='nearest')"
   ]
  },
  {
   "cell_type": "markdown",
   "metadata": {},
   "source": [
    "**<span style=\"color:red\">What do you notice about the relationship between how numbers between 0 to 1 relate to gray-scale colors? What color would 1 correspond to? What about 0?</span>**\n",
    "\n",
    "ADD COMMENTS HERE"
   ]
  },
  {
   "cell_type": "markdown",
   "metadata": {},
   "source": [
    "<a id='task2b'></a>\n",
    "## <span style=\"color:blue\">Task 2b: Scanning Matrix</span>\n",
    "\n",
    "Next, we will create an array that we will use to illuminate individual pixels for our single pixel camera. The first step is to think about the image as a vector (you will see why this is important soon).\n",
    "\n",
    "**<span style=\"color:red\">\n",
    "Convert the `gradient_image` that you created above into a 1x25 (row) vector and display it. You will find the command `np.reshape` helpful. What do you notice? </span>**"
   ]
  },
  {
   "cell_type": "code",
   "execution_count": null,
   "metadata": {
    "collapsed": false
   },
   "outputs": [],
   "source": [
    "# TODO: Convert matrix to vector\n",
    "\n",
    "gradient_image_vector = # YOUR CODE HERE.\n",
    "\n",
    "# Display the vector\n",
    "plt.imshow(gradient_image_vector, cmap='gray', interpolation='nearest')"
   ]
  },
  {
   "cell_type": "markdown",
   "metadata": {},
   "source": [
    "## Imaging Mask\n",
    "Our goal is to scan an image with the single pixel camera, take the output from the camera (a vector), and turn it back into the original image (an array).\n",
    "\n",
    "Let's suppose the original image we scanned with our single pixel camera was `gradient_image` and that the output from the camera was `gradient_image_vector`.  \n",
    "\n",
    "What matrix multiplied with `gradient_image_vector` will return `gradient_image_vector`? Your answer should be a simple matrix, which we will call $H$.\n",
    "This operation is represented in the following equation:\n",
    "\n",
    " $$\\vec{i} * H = \\vec{s}$$ where $H$ is the imaging mask, $i$ is the image vector, and $s$ is the sensor reading vector. In this case, $H$ is selected so that $\\vec{i}$ and $\\vec{s}$ are equal. This will not always be the case. \n",
    "\n",
    "**<span style=\"color:red\">\n",
    "Create the imaging mask $H$. What dimensions does it have and why? </span>**"
   ]
  },
  {
   "cell_type": "code",
   "execution_count": null,
   "metadata": {
    "collapsed": false
   },
   "outputs": [],
   "source": [
    "# TODO: Create the multiplication matrix\n",
    "\n",
    "H = # YOUR CODE HERE. Hint: There is a NumPy function that will create an matrix the properties of H. \n",
    "\n",
    "# Display this image mask\n",
    "plt.imshow(H, cmap='gray', interpolation='nearest')"
   ]
  },
  {
   "cell_type": "markdown",
   "metadata": {},
   "source": [
    "**<span style=\"color:red\">\n",
    "Multiply the $H$ matrix with `gradient_image_vector` to get the same vector back! Remember to use `np.dot` to do matrix multiplication.</span>**"
   ]
  },
  {
   "cell_type": "code",
   "execution_count": null,
   "metadata": {
    "collapsed": false
   },
   "outputs": [],
   "source": [
    "# TODO: Recreate the gradient_image_vector by multiplying H and gradient_image_vector\n",
    "\n",
    "gradient_image_recreate = # YOUR CODE HERE.\n",
    "\n",
    "# Display the result and compare to gradient_image_vector\n",
    "plt.imshow(gradient_image_recreate, cmap='gray', interpolation='nearest')"
   ]
  },
  {
   "cell_type": "markdown",
   "metadata": {},
   "source": [
    "What is happening in this matrix multiplication? Each column of matrix H is responsible for \"illuminating\", or selecting, a single pixel in the gradient image!\n",
    "\n",
    "For the `gradient_image_vector`, we created it by converting the 5x5 image into a vector. Similarly, *every* column in the matrix H can be represented as a 5x5 image. \n",
    "\n",
    "**<span style=\"color:red\">\n",
    "To see this, iterate through each column of matrix H, reshape it into a 5x5 image, and check that each column illuminates a unique pixel of the original 5x5 image! Based on the equation, why should it be the columns?</span>**"
   ]
  },
  {
   "cell_type": "code",
   "execution_count": null,
   "metadata": {
    "collapsed": false
   },
   "outputs": [],
   "source": [
    "# TODO: Iterate through columns of matrix H and form individual masks\n",
    "\n",
    "figure(figsize=(20,20))\n",
    "for j in range(0,25):\n",
    "    subplot(5,5,j+1)\n",
    "    \n",
    "    proj = # YOUR CODE HERE. Hint: You've already used this NumPy function in this lab.\n",
    "    \n",
    "    imshow(proj,cmap='gray', interpolation='nearest');\n",
    "    title('Mask ' + str(j) + ' = Column ' + str(j) + ' of Matrix H')"
   ]
  },
  {
   "cell_type": "markdown",
   "metadata": {},
   "source": [
    "Each of these images that we've created are called masks. The white pixels are transparent and the black pixels are not. When we project one of these masks over our image, we shine only one pixel of light at a time. We can gather information about just that pixel in the image.\n",
    "\n",
    "Let's try an imaging mask that's a bit more complicated. Say we want our sensor reading vector to contain the values for every other pixel (0,2,4...), followed by the pixels we skipped (1,3,5...). \n",
    "\n",
    "**<span style=\"color:red\">\n",
    "Repeat the above procedure with a new imaging mask, $H1$ that selects alternate pixels. </span>**\n",
    "Hint: Try to use columns from the existing H matrix. Review the Python tutorial. Also, look up the numpy concatenate function."
   ]
  },
  {
   "cell_type": "code",
   "execution_count": null,
   "metadata": {
    "collapsed": false
   },
   "outputs": [],
   "source": [
    "# TODO: Create the multiplication matrix\n",
    "\n",
    "H1 = # YOUR CODE HERE. Hint: You can construct H1 using either for loop(s) or clever array slicing and np.concatenate().\n",
    "\n",
    "# Display this image mask\n",
    "figure()\n",
    "plt.imshow(H1, cmap='gray', interpolation='nearest')\n",
    "\n",
    "# TODO: Recreate the gradient_image_vector by multiplying gradient_image_recreate1 and H1\n",
    "\n",
    "gradient_image_recreate1 = # YOUR CODE HERE.\n",
    "\n",
    "\n",
    "# Display the result and compare to gradient_image_vector\n",
    "figure()\n",
    "plt.imshow(gradient_image_recreate1, cmap='gray', interpolation='nearest')"
   ]
  },
  {
   "cell_type": "markdown",
   "metadata": {},
   "source": [
    "<a id='task3'></a>\n",
    "## <span style=\"color:blue\">Task 3: Imaging Real Pictures</span>\n",
    "\n",
    "Finally, we will use our two matrices to image a real picture. Because our picture is fairly large, we want each individual mask to have dimensions 40x30 to match the 4:3 aspect ratio of the projector. To do so, \n",
    "**<span style=\"color:red\">\n",
    "recreate both the $H$ and $H1$ masks to match these dimensions. </span>**"
   ]
  },
  {
   "cell_type": "code",
   "execution_count": null,
   "metadata": {
    "collapsed": true
   },
   "outputs": [],
   "source": [
    "# TODO: Recreate H\n",
    "H = # YOUR CODE HERE.\n",
    "figure()\n",
    "figure(figsize=(20,20))\n",
    "plt.imshow(H, cmap='gray', interpolation='nearest')"
   ]
  },
  {
   "cell_type": "code",
   "execution_count": null,
   "metadata": {
    "collapsed": false
   },
   "outputs": [],
   "source": [
    "# TODO: Recreate H1      \n",
    "H1 = # YOUR CODE HERE.\n",
    "figure(figsize=(20,20))\n",
    "plt.imshow(H1, cmap='gray', interpolation='nearest')"
   ]
  },
  {
   "cell_type": "markdown",
   "metadata": {},
   "source": [
    "In order to tell the imaging code to use a specific matrix, we save it into a variable called `imaging_mask`. "
   ]
  },
  {
   "cell_type": "code",
   "execution_count": null,
   "metadata": {
    "collapsed": false
   },
   "outputs": [],
   "source": [
    "np.save('imaging_mask.npy',H)"
   ]
  },
  {
   "cell_type": "markdown",
   "metadata": {},
   "source": [
    "Open a new command line window. From the command line (in the lab project directory), run\n",
    "\n",
    "`python capture_image.py`\n",
    "\n",
    "The script projects patterns based on the masks you designed, `imaging_mask.npy`. The sensor readings will then be saved into an array named `sensor_readings.npy`.\n",
    "\n",
    "When running the command in the terminal, you will be prompted for the com port and the display. \n",
    "\n",
    "Select the UART COM port (can be found using the Device Manager) and the 1280x720 projector screen. \n",
    "\n",
    "You are given the option to add a delay to your scan. This delay has units of milliseconds and can be positive, negative or 0. With a delay of 0, each pixel will take 100ms scan. Feel free to tweak this delay to improve your images. A longer (more positive) delay might lead to better quality images by giving the filter more time to settle. Finally, a new icon will be added to the taskbar.\n",
    "\n",
    "\n",
    "**<span style=\"color:red\">\n",
    "To begin the scan, you will need to click on the Python icon that popped up in the task bar, and then press 'Enter.' </span>** This selects the projector screen and runs the scan. **Make sure your box is fully closed when scanning. THERE IS A 10 SECOND DELAY BEFORE THE SCAN STARTS...BE PATIENT!**"
   ]
  },
  {
   "cell_type": "markdown",
   "metadata": {},
   "source": [
    "After the sensor readings have been captured, load the sensor reading vector. Here is the equation relating H, sensor readings, and image vector:\n",
    "\n",
    "$$\\vec{i} * H = \\vec{s}$$\n",
    "\n",
    "**<span style=\"color:red\">\n",
    "Recreate the image vector from the sensor readings. \n",
    "</span>**"
   ]
  },
  {
   "cell_type": "code",
   "execution_count": null,
   "metadata": {
    "collapsed": false
   },
   "outputs": [],
   "source": [
    "%pylab inline"
   ]
  },
  {
   "cell_type": "code",
   "execution_count": null,
   "metadata": {
    "collapsed": false
   },
   "outputs": [],
   "source": [
    "# WARNING!! If you run multiple scans (by pressing enter at the end of a scan) the sensor_readings0.npy file \n",
    "#  will incrememnt to sensor_readings1.npy, sensor_readings2.npy etc Make sure you read in the correct file. \n",
    "\n",
    "sr = np.load('data/sensor_readings0.npy') #what are the dimensions?\n",
    "\n",
    "# TODO: Create the image vector from H and sr\n",
    "iv = # YOUR CODE HERE. Hint: Because H is a special matrix, technically you do not need to perform any matrix operations\n",
    "\n",
    "# Contrast code\n",
    "m = median(iv)\n",
    "s = std(iv)\n",
    "\n",
    "if s< 20:\n",
    "    s = 20\n",
    "\n",
    "# Display the result\n",
    "plt.figure(figsize=(3,4))\n",
    "plt.imshow(np.reshape(iv,(30,40)), cmap='gray', vmin = m - s, vmax = m + s, interpolation='nearest')"
   ]
  },
  {
   "cell_type": "markdown",
   "metadata": {},
   "source": [
    "Congratulations! You have imaged your first image using your single pixel camera! \n",
    "\n",
    "\n",
    "**<span style=\"color:red\">\n",
    "Does your recreated image match the real image? What are some problems you notice? \n",
    "</span>**\n",
    "\n",
    "\n",
    "Here are some example images that we recreated using this setup:\n",
    "![Figure 1-1](http://inst.eecs.berkeley.edu/~ee16a/images/imaging_img/figure_1.png \"The Ace of Spades!!\")\n",
    "![Figure 1-2](http://inst.eecs.berkeley.edu/~ee16a/images/imaging_img/trial_1.PNG \"The 7 of Spades!!\")"
   ]
  },
  {
   "cell_type": "markdown",
   "metadata": {},
   "source": [
    "**<span style=\"color:red\">\n",
    "Next, use the second mask for imaging. Can you repeat the same procedure by just replacing $H$ with $H1$? Why or why not?</span>**"
   ]
  },
  {
   "cell_type": "code",
   "execution_count": null,
   "metadata": {
    "collapsed": false
   },
   "outputs": [],
   "source": [
    "np.save('imaging_mask.npy', H1)"
   ]
  },
  {
   "cell_type": "markdown",
   "metadata": {},
   "source": [
    "Now run `capture_image.py` from the command line again (make sure to restart the script) to collect sensor readings, then reconstruct the image.\n",
    "\n",
    "**<span style=\"color:red\">\n",
    "Note that it is very important to seal the imaging system inside the box to keep ambient light out</span>**"
   ]
  },
  {
   "cell_type": "code",
   "execution_count": null,
   "metadata": {
    "collapsed": false
   },
   "outputs": [],
   "source": [
    "# WARNING!! If you run multiple scans (by pressing enter at the end of a scan) the sensor_readings0.npy file \n",
    "#  will incrememnt to sensor_readings1.npy, sensor_readings2.npy etc Make sure you read in the correct file. \n",
    "\n",
    "# REMINDER! Make sure you run the cell above which save H1 as the imaging mask, then rescan your image!\n",
    "sr = np.load('data/sensor_readings0.npy')\n",
    "\n",
    "# TODO: Create the image vector from H1 and sr\n",
    "iv = # YOUR CODE HERE. Hint: Here, H1 is not a special matrix so you will need to perform a matrix operation\n",
    "\n",
    "\n",
    "# Contrast code\n",
    "m = median(iv)\n",
    "s = std(iv)\n",
    "if s< 20:\n",
    "    s = 20\n",
    "\n",
    "# Display the result\n",
    "plt.figure(figsize=(3,4))\n",
    "plt.imshow(np.reshape(iv,(30,40)), cmap='gray', vmin = m - s, vmax = m + s, interpolation='nearest')"
   ]
  },
  {
   "cell_type": "markdown",
   "metadata": {},
   "source": [
    "You are done for the week! Save your code and low pass filter circuit for next week, where you will illuminate multiple pixels per mask!"
   ]
  },
  {
   "cell_type": "markdown",
   "metadata": {},
   "source": [
    "#### You are ready to sign up for checkoff. DO NOT disassemble your circuit before checking off. Afterwards, you may take the Launchpad and circuit kit with you. <span style=\"color:red\"> DO NOT TAKE THE SOLAR CELL. </span>"
   ]
  },
  {
   "cell_type": "markdown",
   "metadata": {},
   "source": [
    "<a id='faq'></a>\n",
    "## FAQ\n",
    "* **Q: The screen jumps when connecting computer to Launchpad?**\n",
    "* A: Try reset button on Launchpad.\n",
    "\n",
    "* **Q: LED on Launchpad is not lighting up when connected to the computer?**\n",
    "* A: Connect the Launchpad to the other USB port.\n",
    "\n",
    "* **When running capture_image.py, you need to click on the projector’s screen past the right of the monitor before pressing enter.**"
   ]
  }
 ],
 "metadata": {
  "anaconda-cloud": {},
  "kernelspec": {
   "display_name": "Python [Root]",
   "language": "python",
   "name": "Python [Root]"
  },
  "language_info": {
   "codemirror_mode": {
    "name": "ipython",
    "version": 3
   },
   "file_extension": ".py",
   "mimetype": "text/x-python",
   "name": "python",
   "nbconvert_exporter": "python",
   "pygments_lexer": "ipython3",
   "version": "3.5.2"
  }
 },
 "nbformat": 4,
 "nbformat_minor": 0
}
