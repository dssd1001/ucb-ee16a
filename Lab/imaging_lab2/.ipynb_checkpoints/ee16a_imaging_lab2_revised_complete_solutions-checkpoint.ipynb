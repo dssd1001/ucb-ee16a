{
 "cells": [
  {
   "cell_type": "markdown",
   "metadata": {},
   "source": [
    "# Imaging Lab 2: Single Pixel Scanning\n",
    "\n",
    "### EECS 16A: Designing Information Devices and Systems I, Fall 2015"
   ]
  },
  {
   "cell_type": "markdown",
   "metadata": {},
   "source": [
    "**Name 1**:\n",
    "\n",
    "**Login**: ee16a-\n",
    "\n",
    "\n",
    "**Name 2**:\n",
    "\n",
    "**Login**: ee16a-"
   ]
  },
  {
   "cell_type": "markdown",
   "metadata": {},
   "source": [
    "\n",
    "## Table of Contents\n",
    "\n",
    "* [Checkoff Outline](#outline)\n",
    "* Setup\n",
    "    * [Light Sensor](#task1a)\n",
    "    * [MSP430 Code](#task1b)\n",
    "    * [Projector](#task1c)\n",
    "* Images and Arrays\n",
    "    * [Images](#task2a)\n",
    "    * [Scanning Matrix](#task2b)\n",
    "* [Real Image Scanning](#task3)"
   ]
  },
  {
   "cell_type": "markdown",
   "metadata": {},
   "source": [
    "# Overview\n",
    "This week, you will scan an image pixel by pixel and write code to recreate it with the sensor readings. Specifically, you will begin by checking that the circuit you built last time still works and that the projector is correctly connected to the computer. Next, you will write code to generate the pattern that the projector will use to scan through the image. Finally, you will use your code and scanning matrix to  image a card!\n",
    "<br/><br/>\n",
    "<center>\n",
    "<img src=\"http://inst.eecs.berkeley.edu/~ee16a/images/imaging_img/proj_prof.png\" style=\"height:256px\" />\n",
    "</center>"
   ]
  },
  {
   "cell_type": "markdown",
   "metadata": {},
   "source": [
    "<a id='task1a'></a>\n",
    "##<span style=\"color:blue\">Task 1a: Light Sensor</span>\n",
    "\n",
    "Build your solar cell circuit as you did in Imaging Lab 1:\n",
    "<br/><br/>\n",
    "\n",
    "<center>\n",
    "<img src=\"http://inst.eecs.berkeley.edu/~ee16a/images/imaging_img/SolarCell%20Circuit.png\" align=\"center\" style=\"height:200px\" />\n",
    "</center>\n",
    "\n",
    "<a id='task1b'></a>\n",
    "**<span style=\"color:red\">Use the oscilloscope to confirm that the sensor you built last week still responds to changes in light. You should be able to reproduce the same output you saw before.</span>**\n",
    "\n",
    "##<span style=\"color:blue\">Task 1b: Upload Code to MSP430</span>\n",
    "We will be using a different MSP430 program this week.<br/> \n",
    "**<span style=\"color:red\"> Upload the `AnalogReadSerial` program to your MSP430. This is located in the lab folder you downloaded. To verify that the program is working, type a '6' into the serial monitor. You should see a reading from the solar cell appear.</span>**\n",
    "\n",
    "<a id='task1c'></a>\n",
    "##<span style=\"color:blue\">Task 1c: Projector Setup</span>\n",
    "* Place the breadboard, MSP430, and solar cell in the stand.\n",
    "* Connect the USB cable to the MSP430.\n",
    "* Connect the HDMI and power cables to the projector.\n",
    "* Turn on the projector (using the power button on the top) and use the left/right arrows to select the HDMI output.\n",
    "* <span style=\"color:blue\">The projector, 3D printed stand, and MSP430 should all be placed inside the box!</span>\n",
    "\n",
    "**<span style=\"color:red\">Confirm that you are able to see a blank Windows Desktop on the projector screen.</span>**\n"
   ]
  },
  {
   "cell_type": "code",
   "execution_count": 2,
   "metadata": {
    "collapsed": false
   },
   "outputs": [],
   "source": [
    "#Import Necessary Libraries\n",
    "from  pylab import *\n",
    "import struct\n",
    "import numpy as np\n",
    "import time\n",
    "import scipy\n",
    "from scipy import linalg\n",
    "#import serial\n",
    "import warnings\n",
    "warnings.filterwarnings('ignore')\n",
    "\n",
    "%matplotlib inline"
   ]
  },
  {
   "cell_type": "markdown",
   "metadata": {},
   "source": [
    "<a id='task2a'></a>\n",
    "##<span style=\"color:blue\">Task 2a: Working with Images</span>\n",
    "A simple grayscale image can be represented using a 2D numpy array. The values stored in this array correspond to different shades of gray, where lower numbers are darker and higher numbers are lighter.  \n",
    "\n",
    "To see how this works, create a 5x5 numpy array with linearly spaced floating point values from 0 to 1. i.e. gradient_image[0,0] = 0.0, gradient_image[2,2] = 0.5, and gradient_image[4,4] = 1.0\n",
    "\n",
    "<br/>\n",
    "\n",
    "\n",
    "**<span style=\"color:red\">Create the gradient 5x5 array here. It should look like the following:</span>**\n",
    "\n",
    "\n",
    "<br/>\n",
    "<center>\n",
    "<img src=\"http://inst.eecs.berkeley.edu/~ee16a/images/imaging_img/gradient.JPG\" align=\"center\" style=\"height:200px\" />\n",
    "</center>"
   ]
  },
  {
   "cell_type": "code",
   "execution_count": 3,
   "metadata": {
    "collapsed": false
   },
   "outputs": [
    {
     "name": "stdout",
     "output_type": "stream",
     "text": [
      "[[ 0.          0.04166667  0.08333333  0.125       0.16666667]\n",
      " [ 0.20833333  0.25        0.29166667  0.33333333  0.375     ]\n",
      " [ 0.41666667  0.45833333  0.5         0.54166667  0.58333333]\n",
      " [ 0.625       0.66666667  0.70833333  0.75        0.79166667]\n",
      " [ 0.83333333  0.875       0.91666667  0.95833333  1.        ]]\n"
     ]
    }
   ],
   "source": [
    "# TODO: Make a gradient image from 0 to 1\n",
    "\n",
    "gradient_image = np.resize(np.linspace(0, 1, 25),(5,5))\n",
    "\n",
    "print(gradient_image)"
   ]
  },
  {
   "cell_type": "markdown",
   "metadata": {},
   "source": [
    "**<span style=\"color:red\">Display the same matrix with `plt.imshow`.</span>**"
   ]
  },
  {
   "cell_type": "code",
   "execution_count": 4,
   "metadata": {
    "collapsed": false
   },
   "outputs": [
    {
     "data": {
      "text/plain": [
       "<matplotlib.image.AxesImage at 0x107c63910>"
      ]
     },
     "execution_count": 4,
     "metadata": {},
     "output_type": "execute_result"
    },
    {
     "data": {
      "image/png": "[encoded data removed]",
      "text/plain": [
       "<matplotlib.figure.Figure at 0x107af8450>"
      ]
     },
     "metadata": {},
     "output_type": "display_data"
    }
   ],
   "source": [
    "plt.imshow(gradient_image, cmap='gray', interpolation='nearest')"
   ]
  },
  {
   "cell_type": "markdown",
   "metadata": {},
   "source": [
    "**<span style=\"color:red\">What do you notice about the relationship between how numbers between 0 to 1 relate to grayscale colors? What color would 1 correspond to? What about 0?</span>**\n",
    "\n",
    "0 -> BLACK, \n",
    "1 -> WHITE"
   ]
  },
  {
   "cell_type": "markdown",
   "metadata": {},
   "source": [
    "<a id='task2b'></a>\n",
    "##<span style=\"color:blue\">Task 2b: Scanning Matrix</span>\n",
    "\n",
    "Next, we will create an array that we will use to illuminate individual pixels for our single pixel camera. The first step is to think about the image as a vector (you will see why this is important soon).\n",
    "\n",
    "**<span style=\"color:red\">\n",
    "Convert the `gradient_image` that you created above into a 1x25 (row) vector and display it. You will find the command `np.reshape` helpful. What do you notice? </span>**"
   ]
  },
  {
   "cell_type": "code",
   "execution_count": 5,
   "metadata": {
    "collapsed": false
   },
   "outputs": [
    {
     "data": {
      "text/plain": [
       "<matplotlib.image.AxesImage at 0x107d7b9d0>"
      ]
     },
     "execution_count": 5,
     "metadata": {},
     "output_type": "execute_result"
    },
    {
     "data": {
      "image/png": "[encoded data removed]",
      "text/plain": [
       "<matplotlib.figure.Figure at 0x107c18290>"
      ]
     },
     "metadata": {},
     "output_type": "display_data"
    }
   ],
   "source": [
    "##TODO: Convert matrix to vector\n",
    "\n",
    "gradient_image_vector = np.reshape(gradient_image,(1,25))\n",
    "\n",
    "##Display the vector\n",
    "plt.imshow(gradient_image_vector, cmap='gray', interpolation='nearest')"
   ]
  },
  {
   "cell_type": "markdown",
   "metadata": {},
   "source": [
    "##Imaging Mask\n",
    "Our goal is to scan an image with the single pixel camera, take the output from the camera (a vector), and turn it back into the original image (an array).\n",
    "\n",
    "Let's suppose the original image we scanned with our single pixel camera was `gradient_image` and that the output from the camera was `gradient_image_vector`.  \n",
    "\n",
    "What matrix multiplied with `gradient_image_vector` will return `gradient_image_vector`? Your answer should be a simple matrix, which we will call $H$.\n",
    "This operation is represented in the following equation:\n",
    "\n",
    " $$\\vec{i} * H = \\vec{s}$$ where $H$ is the imaging mask, $i$ is the image vector, and $s$ is the sensor reading vector. In this case, $H$ is selected so that $\\vec{i}$ and $\\vec{s}$ are equal. This will not always be the case. \n",
    "\n",
    "**<span style=\"color:red\">\n",
    "Create the imaging mask $H$. What dimensions does it have and why? </span>**"
   ]
  },
  {
   "cell_type": "code",
   "execution_count": 6,
   "metadata": {
    "collapsed": false
   },
   "outputs": [
    {
     "data": {
      "text/plain": [
       "<matplotlib.image.AxesImage at 0x107f45450>"
      ]
     },
     "execution_count": 6,
     "metadata": {},
     "output_type": "execute_result"
    },
    {
     "data": {
      "image/png": "[encoded data removed]",
      "text/plain": [
       "<matplotlib.figure.Figure at 0x107db2cd0>"
      ]
     },
     "metadata": {},
     "output_type": "display_data"
    }
   ],
   "source": [
    "##TODO: Create the multiplication matrix\n",
    "H = np.eye(25, 25)\n",
    "\n",
    "#Display this image mask\n",
    "plt.imshow(H, cmap='gray', interpolation='nearest')"
   ]
  },
  {
   "cell_type": "markdown",
   "metadata": {},
   "source": [
    "**<span style=\"color:red\">\n",
    "Multiply the $H$ matrix with `gradient_image_vector` to get the same vector back! Remember to use `np.dot` to do matrix multiplication.</span>**"
   ]
  },
  {
   "cell_type": "code",
   "execution_count": 7,
   "metadata": {
    "collapsed": false
   },
   "outputs": [
    {
     "data": {
      "text/plain": [
       "<matplotlib.image.AxesImage at 0x10802da50>"
      ]
     },
     "execution_count": 7,
     "metadata": {},
     "output_type": "execute_result"
    },
    {
     "data": {
      "image/png": "[encoded data removed]",
      "text/plain": [
       "<matplotlib.figure.Figure at 0x107f7a910>"
      ]
     },
     "metadata": {},
     "output_type": "display_data"
    }
   ],
   "source": [
    "##TODO: Recreate the gradient_image_vector by multiplying H and i\n",
    "gradient_image_recreate = np.dot(gradient_image_vector, H)\n",
    "\n",
    "##Display the result and compare to gradient_image_vector\n",
    "plt.imshow(gradient_image_recreate, cmap='gray', interpolation='nearest')"
   ]
  },
  {
   "cell_type": "markdown",
   "metadata": {},
   "source": [
    "What is happening in this matrix multiplication? Each column of matix H is responsible for \"illuminating\", or selecting, a single pixel in the gradient image!\n",
    "\n",
    "For the `gradient_image_vector`, we created it by converting the 5x5 image into a vector. Similarly, *every* column in the matrix H can be represented as a 5x5 image. \n",
    "\n",
    "**<span style=\"color:red\">\n",
    "To see this, iterate through each column of matrix H, reshape it into a 5x5 image, and check that each column illuminates a unique pixel of the original 5x5 image! Based on the equation, why should it be the columns?</span>**"
   ]
  },
  {
   "cell_type": "code",
   "execution_count": 9,
   "metadata": {
    "collapsed": false,
    "scrolled": false
   },
   "outputs": [
    {
     "data": {
      "image/png": "[encoded data removed]",
      "text/plain": [
       "<matplotlib.figure.Figure at 0x107fb1150>"
      ]
     },
     "metadata": {},
     "output_type": "display_data"
    }
   ],
   "source": [
    "#columns of matrix H and form individual masks\n",
    "figure(figsize=(20,20))\n",
    "for j in range(0,25):\n",
    "    subplot(5,5,j+1)\n",
    "    \n",
    "    proj = np.reshape(H[j],(5,5))\n",
    "    \n",
    "    imshow(proj,cmap='gray', interpolation='nearest');\n",
    "    title('Mask ' + str(j) + ' = Column ' + str(j) + ' of Matrix H')"
   ]
  },
  {
   "cell_type": "markdown",
   "metadata": {},
   "source": [
    "Each of these images that we've created are called masks. The white pixels are transparent and the black pixels are not. When we project one of these masks over our image, we shine only one pixel of light at a time. We can gather information about just that pixel in the image.\n",
    "\n",
    "Let's try an imaging mask that's a bit more complicated. Say we want our sensor reading vector to contain the values for every other pixel (0,2,4...), followed by the pixels we skipped (1,3,5...). \n",
    "\n",
    "**<span style=\"color:red\">\n",
    "Repeat the above procedure with a new imaging mask, $H1$\n",
    "that selects alternate pixels. </span>**\n",
    "Hint: Try to use columns from the existing H matrix. Review the Python tutorial. Also, look up the numpy concatenate function."
   ]
  },
  {
   "cell_type": "code",
   "execution_count": 10,
   "metadata": {
    "collapsed": false
   },
   "outputs": [
    {
     "data": {
      "text/plain": [
       "<matplotlib.image.AxesImage at 0x1091365d0>"
      ]
     },
     "execution_count": 10,
     "metadata": {},
     "output_type": "execute_result"
    },
    {
     "data": {
      "image/png": "[encoded data removed]",
      "text/plain": [
       "<matplotlib.figure.Figure at 0x10a3dca10>"
      ]
     },
     "metadata": {},
     "output_type": "display_data"
    },
    {
     "data": {
      "image/png": "[encoded data removed]",
      "text/plain": [
       "<matplotlib.figure.Figure at 0x10a3d2810>"
      ]
     },
     "metadata": {},
     "output_type": "display_data"
    },
    {
     "data": {
      "image/png": "[encoded data removed]",
      "text/plain": [
       "<matplotlib.figure.Figure at 0x10aba8fd0>"
      ]
     },
     "metadata": {},
     "output_type": "display_data"
    },
    {
     "data": {
      "image/png": "[encoded data removed]",
      "text/plain": [
       "<matplotlib.figure.Figure at 0x10ac1a7d0>"
      ]
     },
     "metadata": {},
     "output_type": "display_data"
    },
    {
     "data": {
      "image/png": "[encoded data removed]",
      "text/plain": [
       "<matplotlib.figure.Figure at 0x10aca9790>"
      ]
     },
     "metadata": {},
     "output_type": "display_data"
    }
   ],
   "source": [
    "import math\n",
    "\n",
    "##TODO: Create the multiplication matrix\n",
    "H_even = H[:,::2]\n",
    "H_odd = H[:,1::2]\n",
    "\n",
    "H1 = np.concatenate((H_even, H_odd), axis=1)\n",
    "\n",
    "\n",
    "#Display this image mask\n",
    "figure()\n",
    "plt.imshow(H_even, cmap='gray', interpolation='nearest')\n",
    "figure()\n",
    "plt.imshow(H_odd, cmap='gray', interpolation='nearest')\n",
    "figure()\n",
    "plt.imshow(H1, cmap='gray', interpolation='nearest')\n",
    "\n",
    "##TODO: Recreate the gradient_image_vector by multiplying the two matrices\n",
    "gradient_image_recreate1 = np.dot(gradient_image_vector, H1)\n",
    "\n",
    "\n",
    "#Display the result and compare to gradient_image_vector\n",
    "figure()\n",
    "plt.imshow(gradient_image_recreate1, cmap='gray', interpolation='nearest')\n",
    "figure()\n",
    "plt.imshow(np.reshape(gradient_image_recreate1, (5,5)), cmap='gray', interpolation= 'nearest')"
   ]
  },
  {
   "cell_type": "markdown",
   "metadata": {},
   "source": [
    "<a id='task3'></a>\n",
    "##<span style=\"color:blue\">Task 3: Imaging Real Pictures</span>\n",
    "\n",
    "Finally, we will use our two matrices to image a real picture. Because our picture is fairly large, we want each individual mask to have dimensions 40x30 to match the 4:3 aspect ratio of the projector. To do so, \n",
    "**<span style=\"color:red\">\n",
    "recreate both the $H$ and $H1$ masks to match these dimensions. </span>**\n",
    "\n"
   ]
  },
  {
   "cell_type": "code",
   "execution_count": 19,
   "metadata": {
    "collapsed": false
   },
   "outputs": [
    {
     "data": {
      "text/plain": [
       "<matplotlib.image.AxesImage at 0x10a4a44d0>"
      ]
     },
     "execution_count": 19,
     "metadata": {},
     "output_type": "execute_result"
    },
    {
     "data": {
      "text/plain": [
       "<matplotlib.figure.Figure at 0x108a16710>"
      ]
     },
     "metadata": {},
     "output_type": "display_data"
    },
    {
     "data": {
      "image/png": "[encoded data removed]",
      "text/plain": [
       "<matplotlib.figure.Figure at 0x108a16650>"
      ]
     },
     "metadata": {},
     "output_type": "display_data"
    },
    {
     "data": {
      "image/png": "[encoded data removed]",
      "text/plain": [
       "<matplotlib.figure.Figure at 0x10a4cf790>"
      ]
     },
     "metadata": {},
     "output_type": "display_data"
    }
   ],
   "source": [
    "##TODO: Recreate H\n",
    "H = np.eye(40*30)\n",
    "figure()\n",
    "figure(figsize=(20,20))\n",
    "plt.imshow(H, cmap='gray', interpolation='nearest')\n",
    "\n",
    "##TODO: Recreate H1      \n",
    "H1 = np.concatenate((H[:, ::2], H[:,1::2]), axis=1)\n",
    "figure(figsize=(20,20))\n",
    "plt.imshow(H1, cmap='gray', interpolation='nearest')"
   ]
  },
  {
   "cell_type": "markdown",
   "metadata": {},
   "source": [
    "In order to tell the imaging code to use a specific matrix, we save it into a variable called `imaging_mask`. "
   ]
  },
  {
   "cell_type": "code",
   "execution_count": 12,
   "metadata": {
    "collapsed": false
   },
   "outputs": [],
   "source": [
    "np.save('imaging_mask.npy',H)"
   ]
  },
  {
   "cell_type": "markdown",
   "metadata": {},
   "source": [
    "From the command line (in the lab project directory), run\n",
    "\n",
    "`python capture_image.py`\n",
    "\n",
    "The script projects patterns based on the masks you designed, `imaging_mask.npy`. The sensor readings will then be saved into an array named `sensor_readings.npy`.\n",
    "\n",
    "When running the command in the terminal, you will be prompted for the com port and the display. \n",
    "\n",
    "Select the UART COM port (can be found using the Device Manager) and the 1280x720 projector screen. \n",
    "\n",
    "You are give the option to add a delay to your scan. This delay has units of miliseconds and can be positive, negative or 0. With a delay of 0, each pixel will take 100ms scan. Feel free to tweak this delay to improve your images. A longer (more positve) delay might lead to better quality images by giving the filter more time to settle. Finally, a window will pop up and you can begin your scan. \n",
    "\n",
    "\n",
    "**<span style=\"color:red\">\n",
    "To begin the scan, you will need to click on the Python window that popped up in the task bar, and then press 'Enter.' </span>** This selects the projector screen and runs the scan. **Make sure your box is fully closed when scanning.**"
   ]
  },
  {
   "cell_type": "markdown",
   "metadata": {},
   "source": [
    "After the sensor readings have been captured, load the sensor reading vector. Here is the equation relating H, sensor readings, and image vector:\n",
    "\n",
    "$$\\vec{i} * H = \\vec{s}$$\n",
    "\n",
    "**<span style=\"color:red\">\n",
    "Recreate the image vector from the sensor readings. \n",
    "</span>**\n",
    "\n"
   ]
  },
  {
   "cell_type": "code",
   "execution_count": null,
   "metadata": {
    "collapsed": false
   },
   "outputs": [],
   "source": [
    "%pylab inline"
   ]
  },
  {
   "cell_type": "code",
   "execution_count": null,
   "metadata": {
    "collapsed": false
   },
   "outputs": [],
   "source": [
    "#WARNING!! If you run multiple scans (by pressing enter at the end of a scan) the sensor_readings0.npy file \n",
    "#  will incrememnt to sensor_readings1.npy, sensor_readings2.npy etc Make sure you read in the correct file. \n",
    "\n",
    "sr = np.load('data/sensor_readings0.npy')#[30*40:]\n",
    "\n",
    "#TODO: Create the image vector from H and sr\n",
    "#Hint: Because H is a special matrix, technically you do not need to perform any matrix operations\n",
    "iv = sr #np.dot(sr, np.linalg.inv(H))\n",
    "\n",
    "\n",
    "#Contrast code\n",
    "m = median(iv)\n",
    "s = std(iv)\n",
    "\n",
    "if s< 20:\n",
    "    s = 20\n",
    "\n",
    "#Display the result\n",
    "plt.figure(figsize=(3,4))\n",
    "plt.imshow(np.reshape(iv,(30,40)), cmap='gray', vmin = m - s, vmax = m + s, interpolation='nearest')"
   ]
  },
  {
   "cell_type": "markdown",
   "metadata": {},
   "source": [
    "Congratulations! You have imaged your first image using your single pixel camera! \n",
    "\n",
    "\n",
    "**<span style=\"color:red\">\n",
    "Does your recreated image match the real image? What are some problems you notice? \n",
    "</span>**\n",
    "\n",
    "\n",
    "Here are some example images that we recreated using this setup:\n",
    "![Figure 1-1](http://inst.eecs.berkeley.edu/~ee16a/images/imaging_img/figure_1.png \"The Ace of Spades!!\")\n",
    "![Figure 1-2](http://inst.eecs.berkeley.edu/~ee16a/images/imaging_img/trial_1.PNG \"The 7 of Spades!!\")"
   ]
  },
  {
   "cell_type": "markdown",
   "metadata": {},
   "source": [
    "**<span style=\"color:red\">\n",
    "Next, use the second mask for imaging. Can you repeat the same procedure by just replacing $H$ with $H1$? Why or why not?</span>**"
   ]
  },
  {
   "cell_type": "code",
   "execution_count": null,
   "metadata": {
    "collapsed": false
   },
   "outputs": [],
   "source": [
    "np.save('imaging_mask.npy', H1)"
   ]
  },
  {
   "cell_type": "markdown",
   "metadata": {},
   "source": [
    "Now run `capture_image.py` from the command line again (make sure to restart the script) to collect sensor readings, then reconstruct the image.\n",
    "\n",
    "**<span style=\"color:red\">\n",
    "Note that it is very important to seal the imaging system inside the box to keep ambient light out</span>**"
   ]
  },
  {
   "cell_type": "code",
   "execution_count": null,
   "metadata": {
    "collapsed": false
   },
   "outputs": [],
   "source": [
    "#WARNING!! If you run multiple scans (by pressing enter at the end of a scan) the sensor_readings0.npy file \n",
    "#  will incrememnt to sensor_readings1.npy, sensor_readings2.npy etc Make sure you read in the correct file. \n",
    "\n",
    "sr = np.load('data/sensor_readings0.npy')\n",
    "\n",
    "#TODO: Create the image vector from H1 and sr\n",
    "#Hint: Here, H1 is not a special matrix so you will need to perform a matrix operation\n",
    "iv = np.dot(sr, np.linalg.inv(H1))\n",
    "\n",
    "\n",
    "#Contrast code\n",
    "m = median(iv)\n",
    "s = std(iv)\n",
    "if s< 20:\n",
    "    s = 20\n",
    "\n",
    "#Display the result\n",
    "plt.figure(figsize=(3,4))\n",
    "plt.imshow(np.reshape(iv,(30,40)), cmap='gray', vmin = m - s, vmax = m + s, interpolation='nearest')"
   ]
  },
  {
   "cell_type": "markdown",
   "metadata": {},
   "source": [
    "You are done for the week! Save your code and low pass filter circuit for next week, where you will illuminate multiple pixels per mask!"
   ]
  },
  {
   "cell_type": "markdown",
   "metadata": {},
   "source": [
    "#### You are ready to sign up for checkoff. DO NOT disassembly your circuit before checking off. Afterwards, you may take the Launchpad and circuit kit with you. <span style=\"color:red\"> DO NOT TAKE THE SOLAR CELL. LEAVE IT IN YOUR DESK BASKET. </span>"
   ]
  }
 ],
 "metadata": {
  "kernelspec": {
   "display_name": "Python 2",
   "language": "python",
   "name": "python2"
  },
  "language_info": {
   "codemirror_mode": {
    "name": "ipython",
    "version": 2
   },
   "file_extension": ".py",
   "mimetype": "text/x-python",
   "name": "python",
   "nbconvert_exporter": "python",
   "pygments_lexer": "ipython2",
   "version": "2.7.11"
  }
 },
 "nbformat": 4,
 "nbformat_minor": 0
}
