{
 "cells": [
  {
   "cell_type": "markdown",
   "metadata": {},
   "source": [
    "# Touch Screen Lab 2: Resistive Touch Screen\n",
    "\n",
    "### EECS 16A: Designing Information Devices and Systems I, Fall 2016"
   ]
  },
  {
   "cell_type": "markdown",
   "metadata": {},
   "source": [
    "**Name 1**:\n",
    "\n",
    "**Login**: ee16a-\n",
    "\n",
    "\n",
    "**Name 2**:\n",
    "\n",
    "**Login**: ee16a-"
   ]
  },
  {
   "cell_type": "markdown",
   "metadata": {},
   "source": [
    "## Table of Contents\n",
    "\n",
    "* [Instructions](#instructions)\n",
    "* [Introduction](#intro1)\n",
    "* [Touch Screen Theory](#tst)\n",
    "* [Task 1: Touch Screen Construction](#task6)\n",
    "    * [Task 1a: Assembling the Bottom Mesh](#task1a)\n",
    "    * [Task 1b: Assembling the Top Mesh](#task1b)\n",
    "* [Task 2: Testing the Circuit](#task2)\n",
    "* [Task 3: Touch Screen Processing](#task3)"
   ]
  },
  {
   "cell_type": "markdown",
   "metadata": {},
   "source": [
    "<a id='instructions'></a>\n",
    "## Instructions\n",
    "* Complete this lab by filling in all of the required sections, marked with `\"YOUR CODE HERE\"` or `\"YOUR COMMENTS HERE\"`.\n",
    "\n",
    "\n",
    "* When you finish notify your GSI to get checked off for this lab. Be ready to answer a few questions to show your understanding of each section.\n",
    "\n",
    "\n",
    "* Labs will be graded based on completion for teams of 2 students\n",
    "\n",
    "\n"
   ]
  },
  {
   "cell_type": "markdown",
   "metadata": {},
   "source": [
    "<a id='policies'></a>\n",
    "## Lab Policies\n",
    "* YOU MUST ATTEND THE LAB SECTION YOU ARE ENROLLED IN. If you anticipate missing a section please notify your GSI in advance.\n",
    "\n",
    "* You are required to return all parts checked out at the beginning of the lab section unless told otherwise.\n",
    "\n",
    "* You are free to stay for the full alloted time and hack around with the lab equipment, but please keep the GSI's time in mind and do not work on unrelated assignments.\n",
    "\n",
    "* ** Food and drinks are not allowed in the lab.**\n",
    "\n",
    "* **Clean up, turn off all equipment, and log off of computers before leaving.**"
   ]
  },
  {
   "cell_type": "markdown",
   "metadata": {},
   "source": [
    "<a id='intro1'></a>\n",
    "## Introduction\n",
    "This you will build a resistive touchscreen. First, you will use the soldering skills learned last week to make a touchscreen entirely out of resistors. Then, you will upload code to the Launchpad in order to process touches. \n",
    "\n",
    "Next week, we will switch gears and build a capacitive touch sensor, which will give you a better understanding of how modern touch screens, such as those found in cellphones, tablets, gaming devices, etc., are implemented.\n",
    "<br/>"
   ]
  },
  {
   "cell_type": "markdown",
   "metadata": {},
   "source": [
    "<a id='tst'></a>\n",
    "## Touchscreen Theory\n",
    "As explained on pages 39-42 in the [Electronics Course Reader](https://d1b10bmlvqabco.cloudfront.net/attach/icgvkl3p4x5m0/gyor3wfgyon205/if0gvqrkz0ue/edogs2.pdf), the basic principle behind a touch screen involves sensing changes in resistance corresponding to a user's touch input as shown below. Resistive touch screens are comprised of two conductive layers, separated by an insulating layer such as air or microbeads. When enough pressure is applied, the conductive layers touch and form a simple circuit called a voltage divider.\n",
    "<center>\n",
    "<img src=\"http://www-inst.eecs.berkeley.edu/~ee16a/sp15/Labs/touchscreen/nb_img/wk2_pen.png\" align=\"center\" style=\"height:200px\" />\n",
    "</center>\n",
    "<br/>\n",
    "\n",
    "The change in resistance is converted to a change in voltage using the voltage divider circuit introduced in lecture:\n",
    "<center>\n",
    "<img src=\"http://www-inst.eecs.berkeley.edu/~ee16a/sp15/Labs/touchscreen/nb_img/wk2_voltage_divider.png\" align=\"center\" style=\"height:200px\" />\n",
    "</center>\n",
    "<br/>\n",
    "Touchscreens have two main jobs: 1) detect a touch 2) determine the location of a touch with respect to a predefined origin. The first task is usually accomplished by using a [\"pull-up\" resistor](https://en.wikipedia.org/wiki/Pull-up_resistor). The second task is accomplished by taking advantage of fact that each conductive layer reduces to a voltage divider. \n",
    "\n",
    "Each conductive layer of a touch screen is responsible for determining position in a single axis. Since we setup the touch screen so that these axes are orthogonal, we can successfully determine the Cartesian position of a touch. To detect the position of a touch along a single axis, we must apply a voltage across one conductive layer, and then use the other conductive layer to sense the voltage between the contact point and ground. After analyzing the circuit, we can determine the relationships below for touching a point along one axis of the circuit, where the \"height\" and \"width\" correspond to the number of resistors along an axis.\n",
    "<center>\n",
    "<img src=\"http://www-inst.eecs.berkeley.edu/~ee16a/sp15/Labs/touchscreen/nb_img/wk2_drive_sense.png\" align=\"center\" style=\"height:300px\" />\n",
    "</center>\n",
    "<br/>\n",
    "\n",
    "As shown above we can only apply voltage across one axis (drive one axis) at a time, while sensing across the other. It is also important to note that this method requires one wire to be disconnected. In this lab we will begin by manually testing voltages using the multimeter, and afterwards use the Launchpad to rapidly switch the drive and sense axes to get \"real time\" measurements of position along the X and Y axes. "
   ]
  },
  {
   "cell_type": "markdown",
   "metadata": {},
   "source": [
    "<a id='task6'></a>\n",
    "## <span style=\"color:blue\">Task 1: Touchscreen Construction</span>\n",
    "We will build a basic 3x3 touchscreen, which will give us 9 total contact points. The touchscreen has two layers or \"meshes\" of resistors, which we will label Top and Bottom accordingly. The Top mesh is a square piece of plastic film with black traces of resistive ink on it; you can think of the traces as resistors. The Bottom mesh is a PCB."
   ]
  },
  {
   "cell_type": "markdown",
   "metadata": {},
   "source": [
    "<a id='task1a'></a>\n",
    "<h2><span style=\"color:blue\">Task 1a: Assemble the Bottom Mesh</span></h2>\n",
    "#### Materials & Equipment (only 1 set per group)\n",
    "* 12 2k$\\Omega$ resistors (Red-Black-Red-Gold) - kit\n",
    "* 2 Alligator clips - kit\n",
    "* 1 Touchscreen PCB - GSI desk\n",
    "* 4 male-male wires (you'll want long wires) - GSI desk\n",
    "* Solder - GSI desk\n",
    "* Precision wire cutters (don't forget to return them!) - GSI desk\n",
    "<br>\n",
    "\n",
    "<center style=\"font-size: 18px; font-weight: bold;\">\n",
    "<div style=\"display: inline-block; margin-left: auto; margin-right: auto;\" border=\"0\"><img style=\"height: 250px;\" src=\"http://inst.eecs.berkeley.edu/~ee16a/images/touchscreen_img/touch_pics/bot_front_blank.jpg\"/><div>Front</div></div>\n",
    "<div style=\"display: inline-block; margin-left: 100px; margin-right: auto; margin-bottom: 14px;\" border=\"0\"><img style=\"height: 250px;\" src=\"http://inst.eecs.berkeley.edu/~ee16a/images/touchscreen_img/touch_pics/bot_back_blank.jpg\"/><div>Back</div></div>\n",
    "</center>"
   ]
  },
  {
   "cell_type": "markdown",
   "metadata": {},
   "source": [
    "**<span style=\"color:red\">Follow the instructions below; read through them once before beginning.</span>**\n",
    "<p>The PCB has two faces (front and back); notice the right angle mark in the bottom left of the **front face.** We will be placing the resistors on the **back face**. Arrange the components as in the pictures **below** (the direction of the resistors - polarity - does **not** matter). Don't forget the two wires at locations (0,1) and (2,1). After you place a resistor on the PCB, you may find it helpful to bend the legs of the resistor to hold it in place. You can also use the vice-grip at your station to hold the PCB if you're in need of an extra hand.\n",
    "\n",
    "Turn the board over so you are looking at the front face and solder the joints (9 in total). **Trim the ends of the resistors using the wire cutters** so that the joints are either flat or rounder (ideal joint height is a few millimeters). Be patient and don't rush! Your goal is to produce a PCB like the one below:\n",
    "</p>\n",
    "</br>\n",
    "\n",
    "<center style=\"font-size: 18px; font-weight: bold;\">\n",
    "<div style=\"display: inline-block; margin-left: auto; margin-right: auto;\" border=\"0\"><img style=\"height: 250px;\" src=\"http://inst.eecs.berkeley.edu/~ee16a/images/touchscreen_img/touch_pics/bot_front_solder.jpg\"/><div>Front</div></div>\n",
    "<div style=\"display: inline-block; margin-left: 100px; margin-right: auto; margin-bottom: 14px;\" border=\"0\"><img style=\"height: 250px;\" src=\"http://inst.eecs.berkeley.edu/~ee16a/images/touchscreen_img/touch_pics/bot_back_solder2.jpg\"/><div>Back</div></div>\n",
    "</center>"
   ]
  },
  {
   "cell_type": "markdown",
   "metadata": {
    "collapsed": true
   },
   "source": [
    "**<span style=\"color:red\">Next, solder a free wire to each alligator clip (see image below).</span>**\n",
    "<center>\n",
    "<img src=\"http://inst.eecs.berkeley.edu/~ee16a/images/touchscreen_img/touch_pics/clips.jpg\" align=\"center\" style=\"height:200px\" />\n",
    "</center>"
   ]
  },
  {
   "cell_type": "markdown",
   "metadata": {},
   "source": [
    "<a id='task1b'></a>\n",
    "## <span style=\"color:blue\">Task 1b: Adding the Top Mesh</span>\n",
    "#### Materials\n",
    "* 4x foam pieces - GSI desk\n",
    "* 1 Plastic Top Mesh - GSI desk\n",
    "* 1 Bottom mesh - completed in 1a\n",
    "* 2x Alligator clips with wires - completed in 1a\n",
    "</br></br>\n",
    "\n",
    "<p>Once you have finished soldering the bottom PCB, the next step is to attach the PCB to the flexible top mesh. Commercial resistive touch screens usually separate the two layers with microscopic plastic beads; for this lab we will be using pieces of foam. </p>\n",
    "\n",
    "**<span style=\"color:red\">Follow the instructions below; read through them once before beginning.</span>**\n",
    "\n",
    "- Orient the PCB so the front is face up.\n",
    "- Stick foam cubes as in the picture below (leave at least 5mm of separation between a joint and foam block). ** You will need at least the 4 outer cubes;** add more cubes if the middle of the plastic screen sags too close to the PCB. Uncover the adhesive on the top of the foam blocks.\n",
    "\n",
    "<center>\n",
    "<img src=\"http://inst.eecs.berkeley.edu/~ee16a/images/touchscreen_img/touch_pics/foam_layout.jpg\" align=\"center\" style=\"height:300px\" />\n",
    "</center>\n",
    "<br/>\n",
    "- Orient the plastic film on top of the PCB so that the ink is facing the solder joints.\n",
    "- Stick the plastic film to the foam blocks, keeping track of alignment.\n",
    "- Attach an alligator clip to following joints on the plastic mesh: (1,0) and (1,2). **The Alligator clips are only clipped onto the plastic mesh, NOT the PCB!**\n",
    "\n",
    "<center>\n",
    "<img src=\"http://inst.eecs.berkeley.edu/~ee16a/images/touchscreen_img/touch_pics/sandwich_clips.jpg\" align=\"center\" style=\"height:300px\" />\n",
    "</center>\n",
    "<br/>"
   ]
  },
  {
   "cell_type": "markdown",
   "metadata": {},
   "source": [
    "<a id='task2'></a>\n",
    "## <span style=\"color:blue\">Task 2: Testing the Circuit</span>\n",
    "\n",
    "#### Materials\n",
    "* Assembled touchscreen - completed in part 1a\n",
    "* Multimeter wires - Back wall\n",
    "* Power supply wires - Back wall\n",
    "\n",
    "Time to test our touch screen! "
   ]
  },
  {
   "cell_type": "markdown",
   "metadata": {},
   "source": [
    "### <span style=\"color:red\">Touch Recognition With the Top Mesh</span>\n",
    "- Supply 5V to the bottom mesh by hooking up the Power Supply GND to the (0,1) lead of the PCB and 5V to the (2,1) lead of the PCB. \n",
    "- Hookup the multimeter by clipping the negative multimeter lead to the (0,1) lead of the PCB and clipping the positive multimeter lead to the (1,2) lead of the flex screen. **The two ground wires should be connected to the same point!**\n",
    "- Push down on the top layer at a particular point and record the output voltage of the Multimeter to 2 decimal places in the \"Top Mesh\" column of the chart below. \n",
    "\n",
    "### <span style=\"color:red\">Touch Recognition With the Bottom Mesh</span>\n",
    "- Supply 5V to the top mesh by hooking up the Power Supply GND to the (1,0) lead of the flex screen and 5V to the (1,2) lead of the flex screen. \n",
    "- Hookup the multimeter by clipping the negative multimeter lead to the (1,0) lead of the flex screen and clipping the positive multimeter lead to the (2,1) lead of the PCB. **The two ground wires should be connected to the same point!**\n",
    "- Push down on the flex screen at a particular point and record the output voltage of the Multimeter to 2 decimal places in the \"Bottom Mesh\" column of the chart below."
   ]
  },
  {
   "cell_type": "markdown",
   "metadata": {},
   "source": [
    "**<span style=\"color:red\">Complete the table below with the voltages measured at each joint.</span>**\n",
    "<table>\n",
    "  <tr>\n",
    "    <td>**Joint**</td>\n",
    "    <td>** Measuring With Top Mesh (V)**</td>\n",
    "    <td>**Measuring Bottom Mesh (V)**</td>\n",
    "  </tr>\n",
    "  <tr>\n",
    "    <td>**(0,0)**</td>\n",
    "    <td><!--YOUR TOP MESH DATA HERE--></td>\n",
    "    <td><!--YOUR BOTTOM MESH DATA HERE--></td>\n",
    "  </tr>\n",
    "  <tr>\n",
    "    <td>**(0,1)**</td>\n",
    "    <td><!--YOUR TOP MESH DATA HERE--></td>\n",
    "    <td><!--YOUR BOTTOM MESH DATA HERE--></td>\n",
    "  </tr>\n",
    "  <tr>\n",
    "    <td>**(0,2)**</td>\n",
    "    <td><!--YOUR TOP MESH DATA HERE--></td>\n",
    "    <td><!--YOUR BOTTOM MESH DATA HERE--></td>\n",
    "  </tr>\n",
    "  <tr>\n",
    "    <td>**(1,0)**</td>\n",
    "    <td><!--YOUR TOP MESH DATA HERE--></td>\n",
    "    <td><!--YOUR BOTTOM MESH DATA HERE--></td>\n",
    "  </tr>\n",
    "  <tr>\n",
    "    <td>**(1,1)**</td>\n",
    "    <td><!--YOUR TOP MESH DATA HERE--></td>\n",
    "    <td><!--YOUR BOTTOM MESH DATA HERE--></td>\n",
    "  </tr>\n",
    "  <tr>\n",
    "    <td>**(1,2)**</td>\n",
    "    <td><!--YOUR TOP MESH DATA HERE--></td>\n",
    "    <td><!--YOUR BOTTOM MESH DATA HERE--></td>\n",
    "  </tr>\n",
    "  <tr>\n",
    "    <td>**(2,0)**</td>\n",
    "    <td><!--YOUR TOP MESH DATA HERE--></td>\n",
    "    <td><!--YOUR BOTTOM MESH DATA HERE--></td>\n",
    "  </tr>\n",
    "  <tr>\n",
    "    <td>**(2,1)**</td>\n",
    "    <td><!--YOUR TOP MESH DATA HERE--></td>\n",
    "    <td><!--YOUR BOTTOM MESH DATA HERE--></td>\n",
    "  </tr>\n",
    "  <tr>\n",
    "    <td>**(2,2)**</td>\n",
    "    <td><!--YOUR TOP MESH DATA HERE--></td>\n",
    "    <td><!--YOUR BOTTOM MESH DATA HERE--></td>\n",
    "  </tr>\n",
    "</table>"
   ]
  },
  {
   "cell_type": "markdown",
   "metadata": {},
   "source": [
    "**<span style=\"color:red\">In order to sense a horizontal coordinate which mesh (top or bottom) will be driven with a voltage source, and which mesh will we measure the voltage across?</span>**"
   ]
  },
  {
   "cell_type": "markdown",
   "metadata": {},
   "source": [
    "YOUR COMMENTS HERE"
   ]
  },
  {
   "cell_type": "markdown",
   "metadata": {},
   "source": [
    "**<span style=\"color:red\">For sensing a vertical coordinate, which mesh (top or bottom) will be driven with a voltage source, and which mesh will we measure the voltage across?</span>**"
   ]
  },
  {
   "cell_type": "markdown",
   "metadata": {},
   "source": [
    "YOUR COMMENTS HERE"
   ]
  },
  {
   "cell_type": "markdown",
   "metadata": {},
   "source": [
    "<a id='task3'></a>\n",
    "## <span style=\"color:blue\">Task 3: Touchscreen Processing</span>\n",
    "Ultimately, we want to be able to determine the precise location of our finger on the screen. While reading voltages off of the multimeter is good for testing purposes, it is slow and not practical for actual usage. We will now use the Launchpad to automate this process.\n",
    "\n",
    "### Launchpad Touch Processing\n",
    "To be consistent with the diagram below, we use the following naming convention: Xneg = (0,1), Xpos = (2,1), Yneg = (1,0), Ypos = (1,2)\n",
    "<center>\n",
    "<img src=\"http://www-inst.eecs.berkeley.edu/~ee16a/sp15/Labs/touchscreen/nb_img/wk2_drive_sense.png\" align=\"center\" style=\"height:200px\" />\n",
    "</center>\n",
    "Use the diagram below to hookup touch screen to the Launchpad (Ypos -> 6.0, Xpos -> 6.1, Xneg -> 6.2, Yneg -> 6.3). You may find it helpful to attach the female-male jumper wires in your supply bag to the ends of each lead. The alligator clips are clipped onto the flex screen only.\n",
    "<center>\n",
    "<br>\n",
    "<center style=\"font-size: 18px; font-weight: bold;\">\n",
    "<div style=\"display: inline-block; margin-left: auto; margin-right: auto;\" border=\"0\"><img style=\"height: 250px;\" src=\"http://inst.eecs.berkeley.edu/~ee16a/images/touchscreen_img/touch_pics/pins.jpg\"/><div>Hookup</div></div>\n",
    "<div style=\"display: inline-block; margin-left: 100px; margin-right: auto; margin-bottom: 14px;\" border=\"0\"><img style=\"height: 250px;\" src=\"http://inst.eecs.berkeley.edu/~ee16a/images/touchscreen_img/touch_pics/full_setup.jpg\"/><div>Full Setup</div></div>\n",
    "</center>"
   ]
  },
  {
   "cell_type": "markdown",
   "metadata": {},
   "source": [
    "Upload the 'touchscreen_processing.ino' file included in the lab folder to the Launchpad. Open up the serial monitor (you should see a message stating 'Touch Screen is Ready...'. If not, reset your Launchpad). Now, push down on your screen, the serial monitor will tell you which point you are touching.\n",
    "\n",
    "If you see incorrect results, or nothing at all, try one of the following:\n",
    "* Reset your Launchpad\n",
    "* Double check your hookups\n",
    "* Make sure the ink traces on the flex screen are not scratched or damaged.\n",
    "\n",
    "Congratulations, you have built a functioning touch screen!"
   ]
  },
  {
   "cell_type": "markdown",
   "metadata": {},
   "source": [
    "**<span style=\"color:red\">Look over the code in touchscreen_processing.ino and try to get an idea of what is going on. Be ready to explain how the Launchpad determines the location of a touch.</span>**"
   ]
  }
 ],
 "metadata": {
  "kernelspec": {
   "display_name": "Python [Root]",
   "language": "python",
   "name": "Python [Root]"
  },
  "language_info": {
   "codemirror_mode": {
    "name": "ipython",
    "version": 3
   },
   "file_extension": ".py",
   "mimetype": "text/x-python",
   "name": "python",
   "nbconvert_exporter": "python",
   "pygments_lexer": "ipython3",
   "version": "3.5.2"
  }
 },
 "nbformat": 4,
 "nbformat_minor": 0
}
