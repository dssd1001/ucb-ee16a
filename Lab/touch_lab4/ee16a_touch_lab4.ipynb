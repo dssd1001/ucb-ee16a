{
 "cells": [
  {
   "cell_type": "markdown",
   "metadata": {},
   "source": [
    "# Touchscreen Lab 4: Buffer Amplifier\n",
    "\n",
    "### EECS 16A: Designing Information Devices and Systems I, Fall 2016"
   ]
  },
  {
   "cell_type": "markdown",
   "metadata": {},
   "source": [
    "**Name 1**:\n",
    "\n",
    "**Login**: ee16a-\n",
    "\n",
    "\n",
    "**Name 2**:\n",
    "\n",
    "**Login**: ee16a-"
   ]
  },
  {
   "cell_type": "markdown",
   "metadata": {},
   "source": [
    "\n",
    "## Table of Contents\n",
    "* [Introduction](#overview)\n",
    "* [Task 1: Capacitive Touchpad Revisited](#task1)\n",
    "    * [Task 1a: Rebuilding the Circuit](#task1a)\n",
    "    * [Task 1b: Adding a Load to the Output](#task1b)\n",
    "* [Task 2: Buffer Amplifier Background](#task2)\n",
    "* [Task 3: Adding the Buffer to the Circuit](#task3)\n",
    "    * [Task 3a: Add the Buffer](#task3a)\n",
    "    * [Task 3b: Add the Load](#task3b)"
   ]
  },
  {
   "cell_type": "markdown",
   "metadata": {},
   "source": [
    "<a id='instructions'></a>\n",
    "## Instructions\n",
    "* Complete this lab by filling in all of the required sections, marked with `\"YOUR CODE HERE\"` or `\"YOUR COMMENTS HERE\"`.\n",
    "\n",
    "* When you finish, submit a checkoff request to the Remote Checkoff System. Be ready to answer a few questions to show your understanding of each section.\n",
    "\n",
    "* Labs will be graded based on completion for teams of 2 students\n"
   ]
  },
  {
   "cell_type": "markdown",
   "metadata": {},
   "source": [
    "<a id='policies'></a>\n",
    "## Lab Policies\n",
    "* YOU MUST ATTEND THE LAB SECTION YOU ARE ENROLLED IN. If you anticipate missing a section please notify your GSI in advance.\n",
    "\n",
    "* You are required to return all parts checked out at the beginning of the lab section unless told otherwise.\n",
    "\n",
    "* You are free to stay for the full alloted time and hack around with the lab equipment, but please keep the GSI's time in mind and do not work on unrelated assignments.\n",
    "\n",
    "* ** Food and drinks are not allowed in the lab.**\n",
    "\n",
    "* **Clean up, turn off all equipment, and log off of computers before leaving.**"
   ]
  },
  {
   "cell_type": "markdown",
   "metadata": {},
   "source": [
    "<a id='overview'></a>\n",
    "## Introduction\n",
    "This week's lab is a continuation of the Capacitive Touchscreen lab. In particular, we will expand the charge sharing circuit to include a Voltage Follower, also known as a Buffer, at the output. The goals of this lab are to deepen your understanding of the Buffer Amplifier and to present a practical use-case scenario of a Buffer."
   ]
  },
  {
   "cell_type": "markdown",
   "metadata": {},
   "source": [
    "<a id='task1'></a>\n",
    "## <span style=\"color:blue\">Task 1: Capacitive Touchpad Revisited</span>\n",
    "<p>**Before we add a Buffer to our circuit, we first need a circuit to add a Buffer to...**</p>"
   ]
  },
  {
   "cell_type": "markdown",
   "metadata": {},
   "source": [
    "<a id='task1a'></a>\n",
    "## <span style=\"color:blue\">Task 1a: Rebuilding the Circuit</span>\n",
    "**<span style=\"color:red\">Rebuild the final circuit from <a href=\"https://inst.eecs.berkeley.edu/~ee16a/fa16/lab/touchscreen/touchscreen3/\">Touch Lab 3</a>. Test the circuit by running the `Read_Touchscreen.ino` program on the Launchpad and confirming the Serial Monitor output is correct.</span>**"
   ]
  },
  {
   "cell_type": "markdown",
   "metadata": {},
   "source": [
    "<a id='task1b'></a>\n",
    "## <span style=\"color:blue\">Task 1b: Adding a Load to the Output </span>\n",
    "\n",
    "#### Materials & Equipment\n",
    "* Complete Circuit from part 1a\n",
    "* 1 Resistor with value > 220 Ohms and < 1500 Ohms - Component Bin at GSI Desk\n",
    "* 1 LED - Component Bin at GSI Desk\n",
    "* Oscilloscope Probe - Back Wall\n",
    "\n",
    "**<span style=\"color:red\">Turn the Power Supply `OFF`. Add the Resistor and LED in series as depicted in the circuit diagram below. Connect the Oscilloscope Probe to the non-inverting input of the Comparator.</span>**\n",
    "\n",
    "<img src=\"http://inst.eecs.berkeley.edu/~ee16a/images/touchscreen_img/touch_pics/touch4_led.png\" height=\"100%\"/>\n",
    "\n",
    "**<span style=\"color:red\">Turn the Power Supply `ON` and observe the output when touching/not touching. What do you notice and why?</span>**"
   ]
  },
  {
   "cell_type": "markdown",
   "metadata": {},
   "source": [
    "YOUR ANSWER HERE"
   ]
  },
  {
   "cell_type": "markdown",
   "metadata": {},
   "source": [
    "<a id='task2'></a>\n",
    "## <span style=\"color:blue\">Task 2: Buffer Amplifier Overview</span>\n",
    "<p>A voltage follower (also called a unity-gain amplifier, a buffer amplifier, and an isolation amplifier) is a op-amp circuit which has a voltage gain of 1.</p>\n",
    "\n",
    "<p>This means that the op amp does not provide any amplification to the signal. The reason it is called a voltage follower is because the output voltage directly follows the input voltage, meaning the output voltage is the same as the input voltage. Thus, for example, if `10V` goes into the non-inverting terminal of the op-amp as input, `10V` comes out as output. A voltage follower acts as a so-called \"buffer\", providing no amplification or attenuation to the signal.</p>\n",
    "\n",
    "**What is the Purpose of a Buffer?**\n",
    "<p>Op-amps typically have very high input <a href=\"https://en.wikipedia.org/wiki/Electrical_impedance\">impedance</a> (see link for information on impedance). When a circuit has a very high input impedance, very little current is drawn from the circuit. We know this from Ohm's Law: since I=V/R, if R is large then I is small. Thus, the greater the resistance, the less current is drawn from a power source. So, the power of the circuit isn't affected when the current is feeding a high impedance load. But what happens if our load has relatively low-impedance?</p>\n",
    "\n",
    "The circuit below contains a power source that feeds a low-impedance load. \n",
    "\n",
    "<img src=\"http://inst.eecs.berkeley.edu/~ee16a/images/touchscreen_img/touch_pics/Power-source-with-low-impedance-load.png\" height=\"100%\"/>\n",
    "\n",
    "In the circuit above, the load demands and draws a huge amount of current due to the load is low impedance. Again, according to Ohm's Law, I=V/R: so if a load has very low resistance, it draws a large amount of current. This large current leads to a huge amount of power being drawn from the power source and, because of this, can potentially cause disturbances to circuit. Now, let's examine a circuit with a Buffer tracking the input signal to the load (below).\n",
    "<img src=\"http://inst.eecs.berkeley.edu/~ee16a/images/touchscreen_img/touch_pics/Power-source-with-high-input-impedance.png\" height=\"100%\"/>\n",
    "\n",
    "This circuit above draws very little current from the power source above (op-amps have high input impedance). As such, very little power is drawn, which prevents disturbances to the original circuit. In addition, the Buffer with output the same signal fed into the non-inverting terminal. In conclusion, buffers isolate a circuit so that the power of the circuit is disturbed very little.</p>"
   ]
  },
  {
   "cell_type": "markdown",
   "metadata": {},
   "source": [
    "<a id='task3'></a>\n",
    "## <span style=\"color:blue\">Task 3: Adding the Buffer to the Circuit</span>\n",
    "<p>**In this task we will add the Buffer and observe the effect it has on the output.**</p>"
   ]
  },
  {
   "cell_type": "markdown",
   "metadata": {},
   "source": [
    "<a id='task3a'></a>\n",
    "## <span style=\"color:blue\">Task 3a: Add the Buffer</span>\n",
    "\n",
    "#### Materials & Equipment\n",
    "* Complete Circuit from part 1a\n",
    "* Some wires - GSI Desk\n",
    "* Oscilloscope Probe - Back Wall\n",
    "\n",
    "**<span style=\"color:red\">Turn the Power Supply `OFF` and remove the Resistor and LED added in Task 1b. Add the Buffer according to the circuit diagram below. `Note: The Op-Amp Package you're using contains two Op-Amps; one will be used for the Comparator, one will be used for the Buffer. Use Op-Amp A for the Comparator and Op-Amp B for the Buffer!`</span>**\n",
    "\n",
    "<img src=\"http://inst.eecs.berkeley.edu/~ee16a/images/touchscreen_img/touch_pics/touch4_buffer_no_led.png\" height=\"100%\"/>\n",
    "\n",
    "As noted above, the LMC6482 contains two separate op-amps as well as pins for power and ground:\n",
    "\n",
    "<img src=\"http://www-inst.eecs.berkeley.edu/~ee16a/sp15/Labs/touchscreen/nb_img/wk3_lmc6482.png\" height=\"100px\"/>\n",
    "<center><span style=\"font-size:9pt;align:center\">Additional details: http://www.ti.com/lit/ds/symlink/lmc6482.pdf</span></center>\n",
    "\n",
    "**<span style=\"color:red\">Connect the Oscilloscope Probe to the Output of the Buffer (Op-Amp B). Turn the Power Supply `ON`. What do you observe and why?</span>**"
   ]
  },
  {
   "cell_type": "markdown",
   "metadata": {},
   "source": [
    "YOUR ANSWER HERE"
   ]
  },
  {
   "cell_type": "markdown",
   "metadata": {},
   "source": [
    "<a id='task3b'></a>\n",
    "## <span style=\"color:blue\">Task 3b: Add the Load</span>\n",
    "\n",
    "#### Materials & Equipment\n",
    "* Complete Circuit from part 3a\n",
    "* Same Resistor and LED from part 1b\n",
    "\n",
    "**<span style=\"color:red\">Before connecting the Resistor and LED, what do you think will happen to the waveform on the Oscilloscope if we add a load to the output of the Buffer? Will we still be able to detect touches? Why or why not?</span>**"
   ]
  },
  {
   "cell_type": "markdown",
   "metadata": {},
   "source": [
    "YOUR ANSWER HERE"
   ]
  },
  {
   "cell_type": "markdown",
   "metadata": {},
   "source": [
    "**<span style=\"color:red\">Turn the Power Supply `OFF`. Connect the Resistor and LED in series as shown in the circuit diagram below. Leave the Oscilloscope probe connected to the output of the Buffer (Op-Amp B).</span>**\n",
    "\n",
    "<img src=\"http://inst.eecs.berkeley.edu/~ee16a/images/touchscreen_img/touch_pics/touch4_buffer.png\" height=\"100%\"/>\n",
    "\n",
    "**<span style=\"color:red\">Turn the Power Supply `ON`. What do you observe on the Oscilloscope? Can you still detect touches? What do you notice about the LED when you touch/don't touch. Explain your results and observations. Specifically explain what the Buffer is doing.</span>**"
   ]
  },
  {
   "cell_type": "markdown",
   "metadata": {},
   "source": [
    "YOUR ANSWER HERE"
   ]
  },
  {
   "cell_type": "markdown",
   "metadata": {},
   "source": [
    "**<span style=\"color:red\">What will happen to the output of the Buffer if the Resistor has less and less resistance (gets closer to 0 resistance)? `HINT: Think about what would happen in the resistor had exactly 0 Ohms resistance.`</span>**"
   ]
  },
  {
   "cell_type": "markdown",
   "metadata": {},
   "source": [
    "YOUR ANSWER HERE"
   ]
  },
  {
   "cell_type": "markdown",
   "metadata": {},
   "source": [
    "**Lab Completed. Leave your circuit as is and submit your information to the Checkoff Queue.**"
   ]
  },
  {
   "cell_type": "markdown",
   "metadata": {},
   "source": [
    "Credit to http://www.learningaboutelectronics.com/"
   ]
  }
 ],
 "metadata": {
  "anaconda-cloud": {},
  "kernelspec": {
   "display_name": "Python [Root]",
   "language": "python",
   "name": "Python [Root]"
  },
  "language_info": {
   "codemirror_mode": {
    "name": "ipython",
    "version": 3
   },
   "file_extension": ".py",
   "mimetype": "text/x-python",
   "name": "python",
   "nbconvert_exporter": "python",
   "pygments_lexer": "ipython3",
   "version": "3.5.2"
  }
 },
 "nbformat": 4,
 "nbformat_minor": 0
}
