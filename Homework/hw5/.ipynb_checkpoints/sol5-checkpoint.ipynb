{
 "cells": [
  {
   "cell_type": "markdown",
   "metadata": {},
   "source": [
    "# HW5 Q3\n",
    "\n",
    "### EECS 16A: Designing Information Devices and Systems I, Fall 2016"
   ]
  },
  {
   "cell_type": "markdown",
   "metadata": {},
   "source": [
    "# Circuit solver\n",
    "In this question we will write a program that solves circuits methodically."
   ]
  },
  {
   "cell_type": "code",
   "execution_count": 1,
   "metadata": {
    "collapsed": false
   },
   "outputs": [],
   "source": [
    "import numpy as np\n",
    "from numpy import linalg\n",
    "from __future__ import print_function"
   ]
  },
  {
   "cell_type": "markdown",
   "metadata": {},
   "source": [
    "(i) Write the incidence matrix F for the graph."
   ]
  },
  {
   "cell_type": "code",
   "execution_count": 2,
   "metadata": {
    "collapsed": false
   },
   "outputs": [
    {
     "name": "stdout",
     "output_type": "stream",
     "text": [
      "\n",
      "F:\n",
      " [[ 1 -1  0  0]\n",
      " [ 0  1 -1  0]\n",
      " [ 1  0 -1  0]\n",
      " [ 0  1  0 -1]\n",
      " [ 0  0  1 -1]]\n"
     ]
    }
   ],
   "source": [
    "F = np.array([[1,-1,0,0],[0,1,-1,0],[1,0,-1,0],[0,1,0,-1],[0,0,1,-1]]) # circuit edge-node incidence matrix\n",
    "print('\\nF:\\n',F)"
   ]
  },
  {
   "cell_type": "markdown",
   "metadata": {},
   "source": [
    "(ii) Specify the resistance matrix R."
   ]
  },
  {
   "cell_type": "code",
   "execution_count": 3,
   "metadata": {
    "collapsed": false
   },
   "outputs": [
    {
     "name": "stdout",
     "output_type": "stream",
     "text": [
      "\n",
      "R:\n",
      " [[ 100000.       0.       0.       0.       0.]\n",
      " [      0.     200.       0.       0.       0.]\n",
      " [      0.       0.     100.       0.       0.]\n",
      " [      0.       0.       0.  100000.       0.]\n",
      " [      0.       0.       0.       0.     100.]]\n"
     ]
    }
   ],
   "source": [
    "R1 = 100000\n",
    "R2 = 200\n",
    "R3 = 100\n",
    "R4 = 100000\n",
    "R5 = 100\n",
    "Rvec = np.array([R1,R2,R3,R4,R5])\n",
    "R = np.eye(5)*Rvec # circuit resistance matrix\n",
    "\n",
    "# For convenience, we will define the conductance matrix G as the inverse of R.\n",
    "G = np.linalg.inv(R)\n",
    "\n",
    "print('\\nR:\\n',R)"
   ]
  },
  {
   "cell_type": "markdown",
   "metadata": {},
   "source": [
    "(iii) Write down the vector f so that KCL is satisfied as: $F^T i + f = 0$"
   ]
  },
  {
   "cell_type": "code",
   "execution_count": 4,
   "metadata": {
    "collapsed": false
   },
   "outputs": [
    {
     "name": "stdout",
     "output_type": "stream",
     "text": [
      "\n",
      "f:\n",
      " [[-3]\n",
      " [ 0]\n",
      " [ 0]\n",
      " [ 3]]\n"
     ]
    }
   ],
   "source": [
    "Is = 3 # current source\n",
    "f = np.array([[-Is],[0],[0],[Is]])\n",
    "print('\\nf:\\n', f)"
   ]
  },
  {
   "cell_type": "markdown",
   "metadata": {},
   "source": [
    "(iv) Setting a potential in v to 0 corresponds to deleting a column of F. Write down our new \"grounded\" matrix F: F_grounded"
   ]
  },
  {
   "cell_type": "code",
   "execution_count": 5,
   "metadata": {
    "collapsed": false
   },
   "outputs": [
    {
     "name": "stdout",
     "output_type": "stream",
     "text": [
      "\n",
      "F_grounded:\n",
      " [[ 1 -1  0]\n",
      " [ 0  1 -1]\n",
      " [ 1  0 -1]\n",
      " [ 0  1  0]\n",
      " [ 0  0  1]]\n"
     ]
    }
   ],
   "source": [
    "F_grounded = F[:, :3]\n",
    "print('\\nF_grounded:\\n', F_grounded)"
   ]
  },
  {
   "cell_type": "markdown",
   "metadata": {},
   "source": [
    "(v) Implement your algebraic solution to compute v in terms of F, G, and f."
   ]
  },
  {
   "cell_type": "code",
   "execution_count": 6,
   "metadata": {
    "collapsed": false,
    "scrolled": true
   },
   "outputs": [
    {
     "name": "stdout",
     "output_type": "stream",
     "text": [
      "\n",
      "A:\n",
      " [[  1.00100000e-02  -1.00000000e-05  -1.00000000e-02]\n",
      " [ -1.00000000e-05   5.02000000e-03  -5.00000000e-03]\n",
      " [ -1.00000000e-02  -5.00000000e-03   2.50000000e-02]]\n",
      "\n",
      "B:\n",
      " [[ 199.8001998    99.9000999    99.9000999 ]\n",
      " [  99.9000999   298.70626886   99.70129373]\n",
      " [  99.9000999    99.70129373   99.90029871]]\n",
      "\n",
      "v:\n",
      " [[ 599.4005994]\n",
      " [ 299.7002997]\n",
      " [ 299.7002997]]\n"
     ]
    }
   ],
   "source": [
    "A = np.dot(np.dot(np.transpose(F_grounded), G), F_grounded)\n",
    "print('\\nA:\\n', A)\n",
    "\n",
    "B = np.linalg.inv(A)\n",
    "print('\\nB:\\n', B)\n",
    "\n",
    "f_gr = f[0:3]\n",
    "v_gr = - B.dot(f_gr) # this is v, excluding v_4 which is implicitly set to 0\n",
    "print('\\nv:\\n', v_gr)"
   ]
  },
  {
   "cell_type": "markdown",
   "metadata": {},
   "source": [
    "(vi) Compute $\\vec{i}$ with your solution of $\\vec{v}$."
   ]
  },
  {
   "cell_type": "code",
   "execution_count": 7,
   "metadata": {
    "collapsed": false
   },
   "outputs": [
    {
     "name": "stdout",
     "output_type": "stream",
     "text": [
      "\n",
      "i:\n",
      " [[  2.99700300e-03]\n",
      " [  5.68434189e-16]\n",
      " [  2.99700300e+00]\n",
      " [  2.99700300e-03]\n",
      " [  2.99700300e+00]]\n"
     ]
    }
   ],
   "source": [
    "i = G.dot(F_grounded.dot(v_gr))\n",
    "\n",
    "print('\\ni:\\n', i)"
   ]
  }
 ],
 "metadata": {
  "anaconda-cloud": {},
  "kernelspec": {
   "display_name": "Python 3",
   "language": "python",
   "name": "python3"
  },
  "language_info": {
   "codemirror_mode": {
    "name": "ipython",
    "version": 3
   },
   "file_extension": ".py",
   "mimetype": "text/x-python",
   "name": "python",
   "nbconvert_exporter": "python",
   "pygments_lexer": "ipython3",
   "version": "3.4.5"
  }
 },
 "nbformat": 4,
 "nbformat_minor": 0
}
