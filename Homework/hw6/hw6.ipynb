{
 "cells": [
  {
   "cell_type": "markdown",
   "metadata": {},
   "source": [
    "# HW6\n",
    "### EECS 16A: Designing Information Devices and Systems I, Fall 2016"
   ]
  },
  {
   "cell_type": "markdown",
   "metadata": {},
   "source": [
    "## Numpy Calculations"
   ]
  },
  {
   "cell_type": "markdown",
   "metadata": {},
   "source": [
    "2) a)"
   ]
  },
  {
   "cell_type": "code",
   "execution_count": 3,
   "metadata": {
    "collapsed": false
   },
   "outputs": [
    {
     "name": "stdout",
     "output_type": "stream",
     "text": [
      "[[ -3.75]\n",
      " [-31.25]]\n"
     ]
    }
   ],
   "source": [
    "import numpy as np\n",
    "\n",
    "A = np.array([[3/20, -1/20],\n",
    "             [1/20, -7/100]])\n",
    "b = np.array([[1],[2]])\n",
    "\n",
    "v = np.linalg.solve(A,b)\n",
    "print (v)"
   ]
  },
  {
   "cell_type": "markdown",
   "metadata": {},
   "source": [
    "2) b)"
   ]
  },
  {
   "cell_type": "code",
   "execution_count": 4,
   "metadata": {
    "collapsed": false
   },
   "outputs": [
    {
     "name": "stdout",
     "output_type": "stream",
     "text": [
      "[[ 10.40226382]\n",
      " [  0.14627775]\n",
      " [  0.28036569]]\n"
     ]
    }
   ],
   "source": [
    "import numpy as np\n",
    "A = np.array([[1/10 + 1/20 + 1/50, -10, -1/50],\n",
    "              [0, 1/60 + 1/55, -1/55],\n",
    "              [-1/50, -1/55, 1/50 + 1/55]])\n",
    "b = np.array([[1/10 + 1/5],[0],[-1/5]])\n",
    "\n",
    "v = np.linalg.solve(A,b)\n",
    "print(v)"
   ]
  },
  {
   "cell_type": "markdown",
   "metadata": {},
   "source": [
    "4) Verifying with Nodal Analysis"
   ]
  },
  {
   "cell_type": "code",
   "execution_count": 5,
   "metadata": {
    "collapsed": false
   },
   "outputs": [
    {
     "name": "stdout",
     "output_type": "stream",
     "text": [
      "[[-5.5]\n",
      " [-4. ]]\n"
     ]
    }
   ],
   "source": [
    "import numpy as np\n",
    "A = np.array([[1/1.5, -1/1.5],\n",
    "              [-1/1.5, 1/3 + 1/1.5 + 1/3]])\n",
    "b = np.array([[-1],[-5/3]])\n",
    "\n",
    "v = np.linalg.solve(A,b)\n",
    "print(v)"
   ]
  },
  {
   "cell_type": "markdown",
   "metadata": {},
   "source": [
    "## Q6 Circuit solver\n",
    "In this question we will write a program that solves circuits methodically, able to include both voltage and current souces."
   ]
  },
  {
   "cell_type": "code",
   "execution_count": 6,
   "metadata": {
    "collapsed": false
   },
   "outputs": [],
   "source": [
    "import numpy as np\n",
    "from numpy import linalg\n",
    "from __future__ import print_function"
   ]
  },
  {
   "cell_type": "markdown",
   "metadata": {},
   "source": [
    "(i) Write the incidence matrix F for the graph, considering $v_1$ and $v_4$ as a combined \"supernode\"."
   ]
  },
  {
   "cell_type": "code",
   "execution_count": 7,
   "metadata": {
    "collapsed": false
   },
   "outputs": [
    {
     "name": "stdout",
     "output_type": "stream",
     "text": [
      "\n",
      "F:\n",
      " [[-1  0  1]\n",
      " [ 1 -1  0]\n",
      " [ 0 -1  1]\n",
      " [ 1  0 -1]\n",
      " [ 0  1 -1]]\n"
     ]
    }
   ],
   "source": [
    "F = np.array([[-1,0,1],\n",
    "              [1,-1,0],\n",
    "              [0,-1,1],\n",
    "              [1,0,-1],\n",
    "              [0,1,-1]])\n",
    "print('\\nF:\\n',F)"
   ]
  },
  {
   "cell_type": "markdown",
   "metadata": {},
   "source": [
    "(ii) Specify the resistance matrix R and the vector of voltage sources $\\vec{b}$."
   ]
  },
  {
   "cell_type": "code",
   "execution_count": 8,
   "metadata": {
    "collapsed": false
   },
   "outputs": [
    {
     "name": "stdout",
     "output_type": "stream",
     "text": [
      "\n",
      "R:\n",
      " [[ 100000.       0.       0.       0.       0.]\n",
      " [      0.     200.       0.       0.       0.]\n",
      " [      0.       0.     100.       0.       0.]\n",
      " [      0.       0.       0.  100000.       0.]\n",
      " [      0.       0.       0.       0.     100.]]\n",
      "\n",
      "b:\n",
      " [[10]\n",
      " [ 0]\n",
      " [10]\n",
      " [ 0]\n",
      " [ 0]]\n"
     ]
    }
   ],
   "source": [
    "R1,R2,R3,R4,R5 = 100000, 200, 100, 100000, 100\n",
    "Rvec = np.array([R1,R2,R3,R4,R5])\n",
    "R = np.eye(5)*Rvec\n",
    "\n",
    "Vs = 10\n",
    "b = np.array([[Vs],[0],[Vs],[0],[0]])\n",
    "\n",
    "# For convenience, we will define the conductance matrix G as the inverse of R.\n",
    "G = np.linalg.inv(R)\n",
    "\n",
    "print('\\nR:\\n',R)\n",
    "print('\\nb:\\n',b)"
   ]
  },
  {
   "cell_type": "markdown",
   "metadata": {},
   "source": [
    "(iii) Write down the vector f so that KCL is satisfied as: $F^T i + f = 0$"
   ]
  },
  {
   "cell_type": "code",
   "execution_count": 9,
   "metadata": {
    "collapsed": false
   },
   "outputs": [
    {
     "name": "stdout",
     "output_type": "stream",
     "text": [
      "\n",
      "f:\n",
      " [[0]\n",
      " [0]\n",
      " [0]]\n"
     ]
    }
   ],
   "source": [
    "f = np.array([[0],[0],[0]])\n",
    "print('\\nf:\\n', f)"
   ]
  },
  {
   "cell_type": "markdown",
   "metadata": {},
   "source": [
    "(iii) What is the rank of F? Does it have a null space? If so, what is it?"
   ]
  },
  {
   "cell_type": "markdown",
   "metadata": {},
   "source": [
    "Row-reducing F, we see F has a linearly dependent column (see Problem 6 Part d). Therefore, rank(F) is 2.\n",
    "\n",
    "Since it's not a full rank, F does have a null space.\n",
    "\n",
    "The null space is spanned by [[1],[1],[1]]."
   ]
  },
  {
   "cell_type": "code",
   "execution_count": 10,
   "metadata": {
    "collapsed": false
   },
   "outputs": [
    {
     "name": "stdout",
     "output_type": "stream",
     "text": [
      "(Matrix([\n",
      "[1.0,   0, -1.0],\n",
      "[  0, 1.0, -1.0],\n",
      "[  0,   0,    0],\n",
      "[  0,   0,    0],\n",
      "[  0,   0,    0]]), [0, 1])\n",
      "[Matrix([\n",
      "[1.0],\n",
      "[1.0],\n",
      "[  1]])]\n"
     ]
    }
   ],
   "source": [
    "# any code you write to help you answer above\n",
    "\n",
    "from sympy import Matrix\n",
    "Fm = Matrix(F)\n",
    "\n",
    "# Frr = row-reduced F matrix\n",
    "Frr = Fm.rref()\n",
    "print(Frr)\n",
    "\n",
    "# Fns = nullspace of F\n",
    "Fns = Fm.nullspace()\n",
    "print(Fns)"
   ]
  },
  {
   "cell_type": "markdown",
   "metadata": {},
   "source": [
    "(iv) Setting a potential in v to 0 corresponds to deleting a column of F. Let $v_4 = 0$, and write down our new \"grounded\" matrix F: F_grounded"
   ]
  },
  {
   "cell_type": "code",
   "execution_count": 11,
   "metadata": {
    "collapsed": false
   },
   "outputs": [
    {
     "name": "stdout",
     "output_type": "stream",
     "text": [
      "\n",
      "F_grounded:\n",
      " [[-1  0]\n",
      " [ 1 -1]\n",
      " [ 0 -1]\n",
      " [ 1  0]\n",
      " [ 0  1]]\n"
     ]
    }
   ],
   "source": [
    "F_grounded = F[:, :2]\n",
    "print('\\nF_grounded:\\n', F_grounded)"
   ]
  },
  {
   "cell_type": "markdown",
   "metadata": {},
   "source": [
    "(v) Implement your algebraic solution to compute v in terms of F, G, $\\vec{f}$, and $\\vec{b}$. You may also have to slice $\\vec{f}$ and $\\vec{b}$."
   ]
  },
  {
   "cell_type": "code",
   "execution_count": 12,
   "metadata": {
    "collapsed": false,
    "scrolled": true
   },
   "outputs": [
    {
     "name": "stdout",
     "output_type": "stream",
     "text": [
      "\n",
      "A:\n",
      " [[ 0.00502 -0.005  ]\n",
      " [-0.005    0.025  ]]\n",
      "\n",
      "B:\n",
      " [[ 248.75621891   49.75124378]\n",
      " [  49.75124378   49.95024876]]\n",
      "\n",
      "v:\n",
      " [[ 5.]\n",
      " [ 5.]]\n"
     ]
    }
   ],
   "source": [
    "A = np.dot(F_grounded.T,np.dot(G,F_grounded))\n",
    "print('\\nA:\\n', A)\n",
    "\n",
    "B = np.linalg.inv(A)\n",
    "print('\\nB:\\n', B)\n",
    "\n",
    "f_gr = f[0:2]\n",
    "\n",
    "v_gr = - B.dot(f_gr + np.dot(F_grounded.T,np.dot(G,b)))\n",
    "print('\\nv:\\n', v_gr)"
   ]
  },
  {
   "cell_type": "markdown",
   "metadata": {},
   "source": [
    "(vi) Compute $\\vec{i}$ with your solution of $\\vec{v}$."
   ]
  },
  {
   "cell_type": "code",
   "execution_count": 13,
   "metadata": {
    "collapsed": false
   },
   "outputs": [
    {
     "name": "stdout",
     "output_type": "stream",
     "text": [
      "\n",
      "i:\n",
      " [[  5.00000000e-05]\n",
      " [  8.88178420e-18]\n",
      " [  5.00000000e-02]\n",
      " [  5.00000000e-05]\n",
      " [  5.00000000e-02]]\n"
     ]
    }
   ],
   "source": [
    "i = G.dot(np.dot(F_grounded, v_gr) + b)\n",
    "\n",
    "print('\\ni:\\n', i)"
   ]
  },
  {
   "cell_type": "code",
   "execution_count": null,
   "metadata": {
    "collapsed": true
   },
   "outputs": [],
   "source": []
  }
 ],
 "metadata": {
  "anaconda-cloud": {},
  "kernelspec": {
   "display_name": "Python 3",
   "language": "python",
   "name": "python3"
  },
  "language_info": {
   "codemirror_mode": {
    "name": "ipython",
    "version": 3
   },
   "file_extension": ".py",
   "mimetype": "text/x-python",
   "name": "python",
   "nbconvert_exporter": "python",
   "pygments_lexer": "ipython3",
   "version": "3.4.5"
  }
 },
 "nbformat": 4,
 "nbformat_minor": 0
}
