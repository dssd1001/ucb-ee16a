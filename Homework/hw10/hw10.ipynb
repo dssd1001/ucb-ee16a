{
 "cells": [
  {
   "cell_type": "markdown",
   "metadata": {},
   "source": [
    "#2. Mechanical: Correlation"
   ]
  },
  {
   "cell_type": "code",
   "execution_count": 42,
   "metadata": {
    "collapsed": false
   },
   "outputs": [
    {
     "name": "stdout",
     "output_type": "stream",
     "text": [
      "Populating the interactive namespace from numpy and matplotlib\n"
     ]
    }
   ],
   "source": [
    "%pylab inline\n",
    "import numpy as np\n",
    "import matplotlib.pyplot as plt\n",
    "from scipy.linalg import circulant"
   ]
  },
  {
   "cell_type": "code",
   "execution_count": 43,
   "metadata": {
    "collapsed": false,
    "scrolled": false
   },
   "outputs": [
    {
     "name": "stdout",
     "output_type": "stream",
     "text": [
      "signal 1 =  [ 1 -1  1 -1 -1 -1  1 -1  1  1]\n",
      "signal 2 =  [1 2 3 4 5 6 7 6 5 4]\n"
     ]
    }
   ],
   "source": [
    "s1 = np.array([1,-1,1,-1,-1,-1,1,-1,1,1])\n",
    "s2 = np.array([1,2,3,4,5,6,7,6,5,4])\n",
    "print(\"signal 1 = \", s1)\n",
    "print(\"signal 2 = \", s2)"
   ]
  },
  {
   "cell_type": "markdown",
   "metadata": {},
   "source": [
    "## (a) autocorrelation"
   ]
  },
  {
   "cell_type": "code",
   "execution_count": 46,
   "metadata": {
    "collapsed": false
   },
   "outputs": [],
   "source": [
    "c1 = circulant(s1).transpose()\n",
    "c2 = circulant(s2).transpose()"
   ]
  },
  {
   "cell_type": "code",
   "execution_count": 78,
   "metadata": {
    "collapsed": false
   },
   "outputs": [
    {
     "name": "stdout",
     "output_type": "stream",
     "text": [
      "Autocorrelation of signal 1:  [ 10  -2   2  -2   2 -10   2  -2   2  -2]\n",
      "Autocorrelation of signal 2:  [217 208 193 176 161 156 161 176 193 208]\n"
     ]
    }
   ],
   "source": [
    "auto1 = np.dot(c1,s1)\n",
    "print (\"Autocorrelation of signal 1: \", auto1)\n",
    "auto2 = np.dot(c2,s2)\n",
    "print (\"Autocorrelation of signal 2: \", auto2)"
   ]
  },
  {
   "cell_type": "code",
   "execution_count": 79,
   "metadata": {
    "collapsed": false
   },
   "outputs": [
    {
     "data": {
      "text/plain": [
       "<matplotlib.legend.Legend at 0x10c450fd0>"
      ]
     },
     "execution_count": 79,
     "metadata": {},
     "output_type": "execute_result"
    },
    {
     "data": {
      "image/png": "[encoded data removed]",
      "text/plain": [
       "<matplotlib.figure.Figure at 0x10c302198>"
      ]
     },
     "metadata": {},
     "output_type": "display_data"
    }
   ],
   "source": [
    "plt.title('Autocorrelation of Each Signal')\n",
    "plt.plot(auto1, label='signal 1')\n",
    "plt.plot(auto2, label='signal 2')\n",
    "plt.xlabel('N (shifts)')\n",
    "plt.ylabel('Inner Product')\n",
    "\n",
    "plt.legend(bbox_to_anchor=(1.05, 1), loc=0, borderaxespad=0.)"
   ]
  },
  {
   "cell_type": "markdown",
   "metadata": {},
   "source": [
    "## (b) cross-correlation"
   ]
  },
  {
   "cell_type": "code",
   "execution_count": 77,
   "metadata": {
    "collapsed": false
   },
   "outputs": [
    {
     "name": "stdout",
     "output_type": "stream",
     "text": [
      "Cross-correlation 1:  [ -3   3   5  11   9   3  -3  -5 -11  -9]\n",
      "Cross-correlation 2:  [ -3  -9 -11  -5  -3   3   9  11   5   3]\n"
     ]
    }
   ],
   "source": [
    "cross1 = np.dot(c2,s1)\n",
    "print (\"Cross-correlation 1: \", cross1)\n",
    "cross2 = np.dot(c1,s2)\n",
    "print (\"Cross-correlation 2: \", cross2)"
   ]
  },
  {
   "cell_type": "code",
   "execution_count": 80,
   "metadata": {
    "collapsed": false
   },
   "outputs": [
    {
     "data": {
      "text/plain": [
       "<matplotlib.text.Text at 0x10c461a20>"
      ]
     },
     "execution_count": 80,
     "metadata": {},
     "output_type": "execute_result"
    },
    {
     "data": {
      "image/png": "[encoded data removed]",
      "text/plain": [
       "<matplotlib.figure.Figure at 0x10ac9d860>"
      ]
     },
     "metadata": {},
     "output_type": "display_data"
    }
   ],
   "source": [
    "plt.title('Cross-correlations')\n",
    "plt.plot(cross1)\n",
    "plt.plot(cross2)\n",
    "plt.xlabel('N (shifts)')\n",
    "plt.ylabel('Inner Product')"
   ]
  }
 ],
 "metadata": {
  "kernelspec": {
   "display_name": "Python 3",
   "language": "python",
   "name": "python3"
  },
  "language_info": {
   "codemirror_mode": {
    "name": "ipython",
    "version": 3
   },
   "file_extension": ".py",
   "mimetype": "text/x-python",
   "name": "python",
   "nbconvert_exporter": "python",
   "pygments_lexer": "ipython3",
   "version": "3.4.5"
  }
 },
 "nbformat": 4,
 "nbformat_minor": 0
}
