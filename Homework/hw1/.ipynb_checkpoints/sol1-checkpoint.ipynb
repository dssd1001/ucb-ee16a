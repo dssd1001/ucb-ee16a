{
 "cells": [
  {
   "cell_type": "markdown",
   "metadata": {},
   "source": [
    "# EE16A: Homework 1"
   ]
  },
  {
   "cell_type": "markdown",
   "metadata": {},
   "source": [
    "## Problem 3: Finding Charges from Voltage Measurements"
   ]
  },
  {
   "cell_type": "code",
   "execution_count": 1,
   "metadata": {
    "collapsed": false
   },
   "outputs": [
    {
     "name": "stdout",
     "output_type": "stream",
     "text": [
      "[ 1.  2.  3.]\n"
     ]
    }
   ],
   "source": [
    "import numpy as np\n",
    "r11 = np.sqrt(2)\n",
    "r12 = np.sqrt(5)\n",
    "r13 = 2\n",
    "r21 = 1\n",
    "r22 = np.sqrt(2)\n",
    "r23 = 1\n",
    "r31 = 2\n",
    "r32 = np.sqrt(5)\n",
    "r33 = np.sqrt(2)\n",
    "y1 = (4 + 3*np.sqrt(5) + np.sqrt(10))/(2*np.sqrt(5))\n",
    "y2 = (2 + 4*np.sqrt(2))/( np.sqrt(2) )\n",
    "y3 = (4 + np.sqrt(5) + 3*np.sqrt(10)) / ( 2*np.sqrt(5) )\n",
    "a= np.array([\n",
    "  [1/r11, 1/r12, 1/r13],\n",
    "  [1/r21, 1/r22, 1/r23],\n",
    "  [1/r31, 1/r32, 1/r33]\n",
    "])\n",
    "b = np.array([y1, y2, y3])\n",
    "x = np.linalg.solve(a, b)\n",
    "print(x)"
   ]
  },
  {
   "cell_type": "markdown",
   "metadata": {},
   "source": [
    "## Problem 4: The Framingham Risk Score"
   ]
  },
  {
   "cell_type": "code",
   "execution_count": null,
   "metadata": {
    "collapsed": false
   },
   "outputs": [],
   "source": [
    "import numpy as np\n",
    "\n",
    "# Populate the left hand side of the system of linear equations. Pay attention to the log() function, which\n",
    "# in python applies the log element-wise to an array or a matrix.\n",
    "LHS = np.log(np.array([[66,198,55,132],\n",
    "                     [61,180,47,124],\n",
    "                     [60,180,50,120],\n",
    "                     [23,132,45,132]]))\n",
    "\n",
    "# Populate the right hand side of the system of linear equations (the equation in the write-up).\n",
    "RHS = np.log(np.log(1-np.array([0.1550,\n",
    "             0.1108,\n",
    "             0.0940,\n",
    "             0.0105]))/np.log(0.95))+25.66\n",
    "\n",
    "# Solve for a,b,c and d\n",
    "abcd = np.linalg.solve(LHS, RHS)\n",
    "\n",
    "# This will print the results\n",
    "abcd_approx = np.around(abcd,4) # first, round the values of the coefficients\n",
    "print('a = ' + str(abcd_approx[0]))\n",
    "print('b = ' + str(abcd_approx[1]))\n",
    "print('c = ' + str(abcd_approx[2]))\n",
    "print('d = ' + str(abcd_approx[3]))"
   ]
  },
  {
   "cell_type": "markdown",
   "metadata": {},
   "source": [
    "## Problem 5: Filtering out the troll"
   ]
  },
  {
   "cell_type": "code",
   "execution_count": null,
   "metadata": {
    "collapsed": false
   },
   "outputs": [],
   "source": [
    "import numpy as np\n",
    "import matplotlib.pyplot as plt\n",
    "import wave as wv\n",
    "import scipy\n",
    "from scipy import io\n",
    "import scipy.io.wavfile\n",
    "from scipy.io.wavfile import read\n",
    "from IPython.display import Audio\n",
    "import warnings\n",
    "warnings.filterwarnings('ignore')\n",
    "sound_file_1 = 'm1.wav'\n",
    "sound_file_2 = 'm2.wav'"
   ]
  },
  {
   "cell_type": "markdown",
   "metadata": {},
   "source": [
    "Let's listen to the recording by the first microphone (it can take some time to load the sound file)."
   ]
  },
  {
   "cell_type": "code",
   "execution_count": null,
   "metadata": {
    "collapsed": false
   },
   "outputs": [],
   "source": [
    "Audio(url='m1.wav', autoplay=False)"
   ]
  },
  {
   "cell_type": "markdown",
   "metadata": {},
   "source": [
    "And this is the recording by the second microphone (it can take some time to load the sound file)."
   ]
  },
  {
   "cell_type": "code",
   "execution_count": null,
   "metadata": {
    "collapsed": false
   },
   "outputs": [],
   "source": [
    "Audio(url='m2.wav', autoplay=False)"
   ]
  },
  {
   "cell_type": "markdown",
   "metadata": {},
   "source": [
    "We read the first recording to `corrupt1` and second recording to `corrupt2` variables."
   ]
  },
  {
   "cell_type": "code",
   "execution_count": null,
   "metadata": {
    "collapsed": true
   },
   "outputs": [],
   "source": [
    "rate1,corrupt1 = scipy.io.wavfile.read('m1.wav')\n",
    "rate2,corrupt2 = scipy.io.wavfile.read('m2.wav')"
   ]
  },
  {
   "cell_type": "markdown",
   "metadata": {},
   "source": [
    "Enter the gains to combine the two recordings to get the clean speech."
   ]
  },
  {
   "cell_type": "code",
   "execution_count": null,
   "metadata": {
    "collapsed": false
   },
   "outputs": [],
   "source": [
    "# enter the gains u to weight recording 1 and v to weight recording 2\n",
    "u = np.sqrt(2)/(1+np.sqrt(3))\n",
    "v = np.sqrt(6)/(1+np.sqrt(3))"
   ]
  },
  {
   "cell_type": "markdown",
   "metadata": {},
   "source": [
    "Weighted combination of the two recordings"
   ]
  },
  {
   "cell_type": "code",
   "execution_count": null,
   "metadata": {
    "collapsed": true
   },
   "outputs": [],
   "source": [
    "s1 = u*corrupt1 + v*corrupt2"
   ]
  },
  {
   "cell_type": "markdown",
   "metadata": {},
   "source": [
    "Let's listen to the resulting sound file (make sure your speaker's volume is not very high, the sound may be loud if things go wrong)."
   ]
  },
  {
   "cell_type": "code",
   "execution_count": null,
   "metadata": {
    "collapsed": false
   },
   "outputs": [],
   "source": [
    "Audio(data=s1, rate=rate1)"
   ]
  }
 ],
 "metadata": {
  "kernelspec": {
   "display_name": "Python 3",
   "language": "python",
   "name": "python3"
  },
  "language_info": {
   "codemirror_mode": {
    "name": "ipython",
    "version": 3
   },
   "file_extension": ".py",
   "mimetype": "text/x-python",
   "name": "python",
   "nbconvert_exporter": "python",
   "pygments_lexer": "ipython3",
   "version": "3.4.5"
  }
 },
 "nbformat": 4,
 "nbformat_minor": 0
}
