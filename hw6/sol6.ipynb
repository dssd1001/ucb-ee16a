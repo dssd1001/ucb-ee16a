{
 "cells": [
  {
   "cell_type": "markdown",
   "metadata": {},
   "source": [
    "# HW6 Q5\n",
    "### EECS 16A: Designing Information Devices and Systems I, Fall 2016"
   ]
  },
  {
   "cell_type": "markdown",
   "metadata": {},
   "source": [
    "# Circuit solver\n",
    "In this question we will write a program that solves circuits methodically, able to include both voltage and current souces."
   ]
  },
  {
   "cell_type": "code",
   "execution_count": 1,
   "metadata": {
    "collapsed": false
   },
   "outputs": [],
   "source": [
    "import numpy as np\n",
    "from numpy import linalg\n",
    "from __future__ import print_function"
   ]
  },
  {
   "cell_type": "markdown",
   "metadata": {},
   "source": [
    "(i) Write the incidence matrix F for the graph, considering $v_1$ and $v_4$ as a combined \"supernode\"."
   ]
  },
  {
   "cell_type": "code",
   "execution_count": 2,
   "metadata": {
    "collapsed": false
   },
   "outputs": [
    {
     "name": "stdout",
     "output_type": "stream",
     "text": [
      "\n",
      "F:\n",
      " [[-1  0  1]\n",
      " [ 1 -1  0]\n",
      " [ 0 -1  1]\n",
      " [ 1  0 -1]\n",
      " [ 0  1 -1]]\n"
     ]
    }
   ],
   "source": [
    "F = np.array([[-1,0,1],[1,-1,0],[0,-1,1],[1,0,-1],[0,1,-1]]) # circuit edge-node incidence matrix\n",
    "print('\\nF:\\n',F)"
   ]
  },
  {
   "cell_type": "markdown",
   "metadata": {},
   "source": [
    "(ii) Specify the resistance matrix R and the vector of voltage sources $\\vec{b}$."
   ]
  },
  {
   "cell_type": "code",
   "execution_count": 3,
   "metadata": {
    "collapsed": false
   },
   "outputs": [
    {
     "name": "stdout",
     "output_type": "stream",
     "text": [
      "\n",
      "R:\n",
      " [[ 100000.       0.       0.       0.       0.]\n",
      " [      0.     200.       0.       0.       0.]\n",
      " [      0.       0.     100.       0.       0.]\n",
      " [      0.       0.       0.  100000.       0.]\n",
      " [      0.       0.       0.       0.     100.]]\n",
      "\n",
      "b:\n",
      " [[10]\n",
      " [ 0]\n",
      " [10]\n",
      " [ 0]\n",
      " [ 0]]\n"
     ]
    }
   ],
   "source": [
    "R1 = 100000\n",
    "R2 = 200\n",
    "R3 = 100\n",
    "R4 = 100000\n",
    "R5 = 100\n",
    "Rvec = np.array([R1,R2,R3,R4,R5])\n",
    "R = np.eye(5)*Rvec # circuit resistance matrix\n",
    "\n",
    "b = np.array([[10,0,10,0,0]]).T\n",
    "\n",
    "# For convenience, we will define the conductance matrix G as the inverse of R.\n",
    "G = np.linalg.inv(R)\n",
    "\n",
    "print('\\nR:\\n',R)\n",
    "print('\\nb:\\n',b)"
   ]
  },
  {
   "cell_type": "markdown",
   "metadata": {},
   "source": [
    "(iii) Write down the vector f so that KCL is satisfied as: $F^T i + f = 0$"
   ]
  },
  {
   "cell_type": "code",
   "execution_count": 4,
   "metadata": {
    "collapsed": false
   },
   "outputs": [
    {
     "name": "stdout",
     "output_type": "stream",
     "text": [
      "\n",
      "f:\n",
      " [[0]\n",
      " [0]\n",
      " [0]\n",
      " [0]]\n"
     ]
    }
   ],
   "source": [
    "f = np.array([[0],[0],[0],[0]])\n",
    "print('\\nf:\\n', f)"
   ]
  },
  {
   "cell_type": "markdown",
   "metadata": {},
   "source": [
    "(iii) What is the rank of F? Does it have a null space? If so, what is it?"
   ]
  },
  {
   "cell_type": "markdown",
   "metadata": {},
   "source": [
    "The rank of F is 2, and it has a null space of dimension 1 which is span$\\{\\begin{bmatrix}1 \\\\ 1 \\\\ 1\\end{bmatrix}\\}$"
   ]
  },
  {
   "cell_type": "code",
   "execution_count": 5,
   "metadata": {
    "collapsed": true
   },
   "outputs": [],
   "source": [
    "# any code you write to help you answer above\n",
    "\n"
   ]
  },
  {
   "cell_type": "markdown",
   "metadata": {},
   "source": [
    "(iv) Setting a potential in v to 0 corresponds to deleting a column of F. Let $v_4 = 0$, and write down our new \"grounded\" matrix F: F_grounded"
   ]
  },
  {
   "cell_type": "code",
   "execution_count": 6,
   "metadata": {
    "collapsed": false
   },
   "outputs": [
    {
     "name": "stdout",
     "output_type": "stream",
     "text": [
      "\n",
      "F_grounded:\n",
      " [[-1  0]\n",
      " [ 1 -1]\n",
      " [ 0 -1]\n",
      " [ 1  0]\n",
      " [ 0  1]]\n"
     ]
    }
   ],
   "source": [
    "F_grounded = F[:, :2]\n",
    "print('\\nF_grounded:\\n', F_grounded)"
   ]
  },
  {
   "cell_type": "markdown",
   "metadata": {},
   "source": [
    "(v) Implement your algebraic solution to compute v in terms of F, G, $\\vec{f}$, and $\\vec{b}$. You may also have to slice $\\vec{f}$ and $\\vec{b}$."
   ]
  },
  {
   "cell_type": "code",
   "execution_count": 1,
   "metadata": {
    "collapsed": false,
    "scrolled": true
   },
   "outputs": [
    {
     "ename": "NameError",
     "evalue": "name 'np' is not defined",
     "output_type": "error",
     "traceback": [
      "\u001b[1;31m---------------------------------------------------------------------------\u001b[0m",
      "\u001b[1;31mNameError\u001b[0m                                 Traceback (most recent call last)",
      "\u001b[1;32m<ipython-input-1-19b2d823875e>\u001b[0m in \u001b[0;36m<module>\u001b[1;34m()\u001b[0m\n\u001b[1;32m----> 1\u001b[1;33m \u001b[0mA\u001b[0m \u001b[1;33m=\u001b[0m \u001b[0mnp\u001b[0m\u001b[1;33m.\u001b[0m\u001b[0mdot\u001b[0m\u001b[1;33m(\u001b[0m\u001b[0mnp\u001b[0m\u001b[1;33m.\u001b[0m\u001b[0mdot\u001b[0m\u001b[1;33m(\u001b[0m\u001b[0mnp\u001b[0m\u001b[1;33m.\u001b[0m\u001b[0mtranspose\u001b[0m\u001b[1;33m(\u001b[0m\u001b[0mF_grounded\u001b[0m\u001b[1;33m)\u001b[0m\u001b[1;33m,\u001b[0m \u001b[0mG\u001b[0m\u001b[1;33m)\u001b[0m\u001b[1;33m,\u001b[0m \u001b[0mF_grounded\u001b[0m\u001b[1;33m)\u001b[0m\u001b[1;33m\u001b[0m\u001b[0m\n\u001b[0m\u001b[0;32m      2\u001b[0m \u001b[0mprint\u001b[0m\u001b[1;33m(\u001b[0m\u001b[1;34m'\\nA:\\n'\u001b[0m\u001b[1;33m,\u001b[0m \u001b[0mA\u001b[0m\u001b[1;33m)\u001b[0m\u001b[1;33m\u001b[0m\u001b[0m\n\u001b[0;32m      3\u001b[0m \u001b[1;33m\u001b[0m\u001b[0m\n\u001b[0;32m      4\u001b[0m \u001b[0mB\u001b[0m \u001b[1;33m=\u001b[0m \u001b[0mnp\u001b[0m\u001b[1;33m.\u001b[0m\u001b[0mlinalg\u001b[0m\u001b[1;33m.\u001b[0m\u001b[0minv\u001b[0m\u001b[1;33m(\u001b[0m\u001b[0mA\u001b[0m\u001b[1;33m)\u001b[0m\u001b[1;33m\u001b[0m\u001b[0m\n\u001b[0;32m      5\u001b[0m \u001b[0mprint\u001b[0m\u001b[1;33m(\u001b[0m\u001b[1;34m'\\nB:\\n'\u001b[0m\u001b[1;33m,\u001b[0m \u001b[0mB\u001b[0m\u001b[1;33m)\u001b[0m\u001b[1;33m\u001b[0m\u001b[0m\n",
      "\u001b[1;31mNameError\u001b[0m: name 'np' is not defined"
     ]
    }
   ],
   "source": [
    "A = np.dot(np.dot(np.transpose(F_grounded), G), F_grounded)\n",
    "print('\\nA:\\n', A)\n",
    "\n",
    "B = np.linalg.inv(A)\n",
    "print('\\nB:\\n', B)\n",
    "\n",
    "v = - B.dot(f[1:3] + F_grounded.T.dot(G.dot(b)))\n",
    "print('\\nv:\\n', v)"
   ]
  },
  {
   "cell_type": "markdown",
   "metadata": {},
   "source": [
    "(vi) Compute $\\vec{i}$ with your solution of $\\vec{v}$."
   ]
  },
  {
   "cell_type": "code",
   "execution_count": 8,
   "metadata": {
    "collapsed": false
   },
   "outputs": [
    {
     "name": "stdout",
     "output_type": "stream",
     "text": [
      "\n",
      "i:\n",
      " [[ -9.89552239e-05]\n",
      " [  9.96020896e-02]\n",
      " [  1.00248955e-01]\n",
      " [  1.98955224e-04]\n",
      " [ -2.48955224e-04]]\n"
     ]
    }
   ],
   "source": [
    "i = G.dot(F_grounded.dot(v) + b)\n",
    "\n",
    "print('\\ni:\\n', i)"
   ]
  }
 ],
 "metadata": {
  "anaconda-cloud": {},
  "kernelspec": {
   "display_name": "Python 3",
   "language": "python",
   "name": "python3"
  },
  "language_info": {
   "codemirror_mode": {
    "name": "ipython",
    "version": 3
   },
   "file_extension": ".py",
   "mimetype": "text/x-python",
   "name": "python",
   "nbconvert_exporter": "python",
   "pygments_lexer": "ipython3",
   "version": "3.4.5"
  }
 },
 "nbformat": 4,
 "nbformat_minor": 0
}
